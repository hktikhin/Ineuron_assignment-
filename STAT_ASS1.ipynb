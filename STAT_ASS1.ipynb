{
 "cells": [
  {
   "cell_type": "markdown",
   "id": "aerial-cooling",
   "metadata": {},
   "source": [
    "### Calculate the mean, median, mode and standard deviation for the problem\n",
    "### statements 1& 2.\n",
    "### Problem Statement 1:\n",
    "### The marks awarded for an assignment set for a Year 8 class of 20 students were as\n",
    "### follows:\n",
    "### 6 7 5 7 7 8 7 6 9 7 4 10 6 8 8 9 5 6 4 8\n",
    "\n",
    "### Problem Statement 2:\n",
    "### The number of calls from motorists per day for roadside service was recorded for a\n",
    "### particular month:\n",
    "### 28, 122, 217, 130, 120, 86, 80, 90, 140, 120, 70, 40, 145, 113, 90, 68, 174, 194, 170, 100, 75, 104, 97, 75,\n",
    "### 123, 100, 75, 104, 97, 75, 123, 100, 89, 120, 109"
   ]
  },
  {
   "cell_type": "code",
   "execution_count": 1,
   "id": "labeled-orleans",
   "metadata": {},
   "outputs": [
    {
     "data": {
      "text/plain": [
       "(6.85, 7.0, ModeResult(mode=array([7]), count=array([5])), 1.5898113095584647)"
      ]
     },
     "execution_count": 1,
     "metadata": {},
     "output_type": "execute_result"
    }
   ],
   "source": [
    "import numpy as np \n",
    "from scipy import stats\n",
    "## Q1\n",
    "num1 = [6, 7, 5, 7, 7, 8, 7, 6, 9, 7, 4, 10, 6, 8, 8, 9, 5, 6, 4, 8]\n",
    "mean1 = np.mean(num1)\n",
    "median1 = np.median(num1)\n",
    "mode1 = stats.mode(num1)\n",
    "sd1 = np.std(num1)\n",
    "mean1,median1,mode1,sd1"
   ]
  },
  {
   "cell_type": "code",
   "execution_count": 2,
   "id": "directed-disorder",
   "metadata": {},
   "outputs": [
    {
     "data": {
      "text/plain": [
       "(107.51428571428572,\n",
       " 100.0,\n",
       " ModeResult(mode=array([75]), count=array([4])),\n",
       " 38.77287080168403)"
      ]
     },
     "execution_count": 2,
     "metadata": {},
     "output_type": "execute_result"
    }
   ],
   "source": [
    "## Q2\n",
    "num2 = [28, 122, 217, 130, 120, 86, 80, 90, 140, 120, 70, 40, 145, 113, 90, 68, 174, 194, 170, 100, 75, 104, 97, 75,\n",
    "123, 100, 75, 104, 97, 75, 123, 100, 89, 120, 109]\n",
    "mean2 = np.mean(num2)\n",
    "median2 = np.median(num2)\n",
    "mode2 = stats.mode(num2)\n",
    "sd2 = np.std(num2)\n",
    "mean2,median2,mode2,sd2"
   ]
  },
  {
   "cell_type": "markdown",
   "id": "northern-equality",
   "metadata": {},
   "source": [
    "### Problem Statement 3:\n",
    "### The number of times I go to the gym in weekdays, are given below along with its\n",
    "### associated probability:\n",
    "### x = 0, 1, 2, 3, 4, 5\n",
    "### f(x) = 0.09, 0.15, 0.40, 0.25, 0.10, 0.01\n",
    "### Calculate the mean no. of workouts in a week. Also evaluate the variance involved in it.\n",
    "\n",
    "\n"
   ]
  },
  {
   "cell_type": "code",
   "execution_count": 3,
   "id": "fabulous-photographer",
   "metadata": {},
   "outputs": [
    {
     "data": {
      "text/plain": [
       "(2.15, 1.2275, 1.2275)"
      ]
     },
     "execution_count": 3,
     "metadata": {},
     "output_type": "execute_result"
    }
   ],
   "source": [
    "## e : expectation,p : probability\n",
    "x = [0, 1, 2, 3, 4, 5]\n",
    "p_of_x = [0.09, 0.15, 0.40, 0.25, 0.10, 0.01]\n",
    "e_of_x = 0\n",
    "e_of_xsq = 0\n",
    "for i,j in zip(x,p_of_x):\n",
    "    e_of_x += i*j\n",
    "    e_of_xsq += i*i*j\n",
    "    \n",
    "## M1 for variance \n",
    "var_of_x = e_of_xsq-e_of_x**2\n",
    "\n",
    "\n",
    "## M2 for variance\n",
    "var_of_x1 = 0\n",
    "for i,j in zip(x,p_of_x):\n",
    "    var_of_x1 += (i-e_of_x)**2*j\n",
    "    \n",
    "e_of_x,var_of_x,var_of_x1"
   ]
  },
  {
   "cell_type": "markdown",
   "id": "0acb3139",
   "metadata": {},
   "source": [
    "### Problem Statement 4:\n",
    "Let the continuous random variable D denote the diameter of the hole drilled in an\n",
    "aluminum sheet. The target diameter to be achieved is 12.5mm. Random\n",
    "disturbances in the process often result in inaccuracy.\n",
    "Historical data shows that the distribution of D can be modelled by the PDF (d) =\n",
    "20*exp(−20(d−12.5)), d ≥ 12.5. If a part with diameter > 12.6 mm needs to be scrapped,\n",
    "what is the proportion of those parts? What is the CDF when the diameter is of 11\n",
    "mm? What is your conclusion regarding the proportion of scraps?"
   ]
  },
  {
   "cell_type": "code",
   "execution_count": 4,
   "id": "systematic-pearl",
   "metadata": {},
   "outputs": [
    {
     "data": {
      "text/plain": [
       "(0.8646647167633718, 0.13533528323662825)"
      ]
     },
     "execution_count": 4,
     "metadata": {},
     "output_type": "execute_result"
    }
   ],
   "source": [
    "## f(D=d) = 20e−20(d−12.5)\n",
    "## P(D>12.6) = 1-P(D<12.6) = 1 - integrate 20*exp(−20(d−12.5)) from 12.5 to 12.6\n",
    "import scipy.integrate as integrate\n",
    "pdf = lambda d: 20*np.exp(-20*(d -12.5))\n",
    "result = integrate.quad(pdf, 12.5, 12.6)\n",
    "ans = 1 - result[0]\n",
    "result[0],ans "
   ]
  },
  {
   "cell_type": "markdown",
   "id": "59890dfe",
   "metadata": {},
   "source": [
    "- CDF(11) = P(D<11) = 0 as pdf = 0 when D < 12.5\n",
    "\n",
    "- therefore,P(12.5<D<12.6) = 0.865,P(D>12.6) = 0.135"
   ]
  },
  {
   "cell_type": "markdown",
   "id": "8377722c",
   "metadata": {},
   "source": [
    "### Problem Statement 5:\n",
    "\n",
    "A company manufactures LED bulbs with a faulty rate of 30%. If I randomly select 6\n",
    "chosen LEDs, what is the probability of having 2 faulty LEDs in my sample?\n",
    "Calculate the average value of this process. Also evaluate the standard deviation\n",
    "associated with it."
   ]
  },
  {
   "cell_type": "markdown",
   "id": "2f6ca191",
   "metadata": {},
   "source": [
    "Ans: let X: # of faulty LEDs when selecting 6 chosen LEDs\n",
    "\n",
    "X ~ Bin(6,0.3)\n",
    "\n",
    "P(X = 2) = 6c2 * 0.3^2 * 0.7^4\n",
    "\n",
    "6c2 = 6*5/2 =30"
   ]
  },
  {
   "cell_type": "code",
   "execution_count": 5,
   "id": "55f6c3c4",
   "metadata": {},
   "outputs": [
    {
     "data": {
      "text/plain": [
       "(0.6482699999999998, 1.7999999999999998, 1.1224972160321822)"
      ]
     },
     "execution_count": 5,
     "metadata": {},
     "output_type": "execute_result"
    }
   ],
   "source": [
    "p = 30 * .3**2 * .7**4\n",
    "e_of_X = 6*.3\n",
    "var_of_X = 6*.3*.7\n",
    "sd_of_X = np.sqrt(var_of_X)\n",
    "\n",
    "p,e_of_X,sd_of_X"
   ]
  },
  {
   "cell_type": "markdown",
   "id": "15bfdce2",
   "metadata": {},
   "source": [
    "### Problem Statement 6:\n",
    "\n",
    "Gaurav and Barakha are both preparing for entrance exams. Gaurav attempts to\n",
    "solve 8 questions per day with a correction rate of 75%, while Barakha averages\n",
    "around 12 questions per day with a correction rate of 45%. What is the probability\n",
    "that each of them will solve 5 questions correctly? What happens in cases of 4 and 6\n",
    "correct solutions? What do you infer from it? What are the two main governing\n",
    "factors affecting their ability to solve questions correctly? Give a pictorial\n",
    "representation of the same to validate your answer."
   ]
  },
  {
   "cell_type": "markdown",
   "id": "7b6d091d",
   "metadata": {},
   "source": [
    "ANS: \n",
    "- X,Y: # of question correctly answered\n",
    "- X ~ Bin(8,0.75) , Y ~Bin(12,0.45)"
   ]
  },
  {
   "cell_type": "code",
   "execution_count": 6,
   "id": "7db1d923",
   "metadata": {},
   "outputs": [
    {
     "data": {
      "text/plain": [
       "0.046199890572992175"
      ]
     },
     "execution_count": 6,
     "metadata": {},
     "output_type": "execute_result"
    }
   ],
   "source": [
    "import math\n",
    "\n",
    "def nCr(n,r):\n",
    "    f = math.factorial\n",
    "    return f(n) / f(r) / f(n-r)\n",
    "\n",
    "nx, px = 8, .75  \n",
    "ny, py = 12, .45\n",
    "\n",
    "px5 = nCr(nx,5) * px**5 * (1-px) **3 \n",
    "py5 = nCr(ny,5)* py**5 * (1-py)**7\n",
    "px5*py5"
   ]
  },
  {
   "cell_type": "code",
   "execution_count": 7,
   "id": "56813ceb",
   "metadata": {},
   "outputs": [
    {
     "data": {
      "text/plain": [
       "0.018374956477894614"
      ]
     },
     "execution_count": 7,
     "metadata": {},
     "output_type": "execute_result"
    }
   ],
   "source": [
    "px4 =  nCr(nx,4) * px**4 * (1-px)**4 \n",
    "py6 = nCr(ny,6)* py**6 * (1-py)**6\n",
    "px4*py6"
   ]
  },
  {
   "cell_type": "code",
   "execution_count": 8,
   "id": "c84741de",
   "metadata": {},
   "outputs": [
    {
     "data": {
      "image/png": "[encoded data removed]",
      "text/plain": [
       "<Figure size 432x288 with 2 Axes>"
      ]
     },
     "metadata": {
      "needs_background": "light"
     },
     "output_type": "display_data"
    }
   ],
   "source": [
    "import matplotlib.pyplot as plt\n",
    "n_bins = 100\n",
    "\n",
    "sx = np.random.binomial(nx, px, 10000)\n",
    "sy = np.random.binomial(ny, py, 10000)\n",
    "\n",
    "fig, axs = plt.subplots(1, 2,sharey=True, tight_layout=True)\n",
    "\n",
    "axs[0].hist(sx, bins=n_bins)\n",
    "axs[1].hist(sy, bins=n_bins)\n",
    "plt.show()"
   ]
  },
  {
   "cell_type": "markdown",
   "id": "e1cc7914",
   "metadata": {},
   "source": [
    "- the more question you can try, the more question you can answer correctly\n",
    "- increase correction rate"
   ]
  },
  {
   "cell_type": "markdown",
   "id": "e4ead340",
   "metadata": {},
   "source": [
    "### Problem Statement 7:\n",
    "\n",
    "Customers arrive at a rate of 72 per hour to my shop. What is the probability of k\n",
    "customers arriving in 4 minutes? a) 5 customers, b) not more than 3 customers, c)\n",
    "more than 3 customers. Give a pictorial representation of the same to validate your\n",
    "answer."
   ]
  },
  {
   "cell_type": "markdown",
   "id": "617af3a6",
   "metadata": {},
   "source": [
    "ANS:\n",
    "- X:# of customers arrriving in 4 mins\n",
    "- X~Pois(72/60*4)"
   ]
  },
  {
   "cell_type": "code",
   "execution_count": 9,
   "id": "2598df9d",
   "metadata": {},
   "outputs": [],
   "source": [
    "pois_lambda = 72/60*4\n",
    "pmf = lambda k:pois_lambda**k*np.exp(-pois_lambda)/math.factorial(k)"
   ]
  },
  {
   "cell_type": "code",
   "execution_count": 10,
   "id": "6a783228",
   "metadata": {},
   "outputs": [
    {
     "data": {
      "text/plain": [
       "0.17474768364388282"
      ]
     },
     "execution_count": 10,
     "metadata": {},
     "output_type": "execute_result"
    }
   ],
   "source": [
    "pmf(5)"
   ]
  },
  {
   "cell_type": "code",
   "execution_count": 11,
   "id": "2222ef7b",
   "metadata": {},
   "outputs": [
    {
     "data": {
      "text/plain": [
       "0.2942299164965641"
      ]
     },
     "execution_count": 11,
     "metadata": {},
     "output_type": "execute_result"
    }
   ],
   "source": [
    "pmf(0)+pmf(1)+pmf(2)+pmf(3)"
   ]
  },
  {
   "cell_type": "code",
   "execution_count": 12,
   "id": "2718a7c0",
   "metadata": {},
   "outputs": [
    {
     "data": {
      "text/plain": [
       "0.705770083503436"
      ]
     },
     "execution_count": 12,
     "metadata": {},
     "output_type": "execute_result"
    }
   ],
   "source": [
    "1-(pmf(0)+pmf(1)+pmf(2)+pmf(3))"
   ]
  },
  {
   "cell_type": "markdown",
   "id": "84ed5ae5",
   "metadata": {},
   "source": [
    "### Problem Statement 8:\n",
    "\n",
    "I work as a data analyst in Aeon Learning Pvt. Ltd. After analyzing data, I make\n",
    "reports, where I have the efficiency of entering 77 words per minute with 6 errors per\n",
    "hour. What is the probability that I will commit 2 errors in a 455-word financial report?\n",
    "What happens when the no. of words increases/decreases (in case of 1000 words,\n",
    "255 words)?\n",
    "How is the λ affected?\n",
    "How does it influence the PMF?\n",
    "Give a pictorial representation of the same to validate your answer."
   ]
  },
  {
   "cell_type": "markdown",
   "id": "04a84161",
   "metadata": {},
   "source": [
    "ANS: \n",
    "- let X: # of errors when typing k words \n",
    "- k/77 is time required to type k words \n",
    "- X~Pois(6/60*k/77)"
   ]
  },
  {
   "cell_type": "code",
   "execution_count": 13,
   "id": "f86e396f",
   "metadata": {},
   "outputs": [],
   "source": [
    "pmf_diff_lambda = lambda x,pois_lambda:pois_lambda**x*np.exp(-pois_lambda)/math.factorial(x)"
   ]
  },
  {
   "cell_type": "code",
   "execution_count": 14,
   "id": "8359846e",
   "metadata": {},
   "outputs": [
    {
     "data": {
      "text/plain": [
       "0.09669027375144446"
      ]
     },
     "execution_count": 14,
     "metadata": {},
     "output_type": "execute_result"
    }
   ],
   "source": [
    "# k = 455 , x =2\n",
    "pmf_diff_lambda(2,6/60*455/77)"
   ]
  },
  {
   "cell_type": "code",
   "execution_count": 15,
   "id": "e838d9a3",
   "metadata": {},
   "outputs": [
    {
     "data": {
      "text/plain": [
       "0.23012815007300153"
      ]
     },
     "execution_count": 15,
     "metadata": {},
     "output_type": "execute_result"
    }
   ],
   "source": [
    "# k = 1000 , x =2\n",
    "pmf_diff_lambda(2,6/60*1000/77)"
   ]
  },
  {
   "cell_type": "code",
   "execution_count": 16,
   "id": "4071bd80",
   "metadata": {},
   "outputs": [
    {
     "data": {
      "text/plain": [
       "0.039377135392854104"
      ]
     },
     "execution_count": 16,
     "metadata": {},
     "output_type": "execute_result"
    }
   ],
   "source": [
    "# k = 255 , x =2\n",
    "pmf_diff_lambda(2,6/60*255/77)"
   ]
  },
  {
   "cell_type": "code",
   "execution_count": 17,
   "id": "a08e91eb",
   "metadata": {},
   "outputs": [
    {
     "data": {
      "image/png": "[encoded data removed]",
      "text/plain": [
       "<Figure size 432x288 with 3 Axes>"
      ]
     },
     "metadata": {
      "needs_background": "light"
     },
     "output_type": "display_data"
    }
   ],
   "source": [
    "n_bins = 100\n",
    "\n",
    "s1 = np.random.poisson(6/60*455/77, 10000)\n",
    "s2 = np.random.poisson(6/60*1000/77, 10000)\n",
    "s3 = np.random.poisson(6/60*255/77, 10000)\n",
    "\n",
    "fig, axs = plt.subplots(1, 3,sharey=True, tight_layout=True)\n",
    "\n",
    "axs[0].hist(s1, bins=n_bins)\n",
    "axs[1].hist(s2, bins=n_bins)\n",
    "axs[2].hist(s3, bins=n_bins)\n",
    "plt.show()"
   ]
  },
  {
   "cell_type": "markdown",
   "id": "4e4613c5",
   "metadata": {},
   "source": [
    "- as lambda increases, the center of pmf moves to right \n",
    "- that mean that prob of getting high error increases"
   ]
  },
  {
   "cell_type": "markdown",
   "id": "51a7998f",
   "metadata": {},
   "source": [
    "### Problem Statement 9:\n",
    "\n",
    "Let the continuous random variable D denote the diameter of the hole drilled in an\n",
    "aluminum sheet. The target diameter to be achieved is 12.5mm. Random\n",
    "disturbances in the process often result in inaccuracy.\n",
    "Historical data shows that the distribution of D can be modelled by the PDF, f(d) =\n",
    "20e−20(d−12.5), d ≥ 12.5. If a part with diameter > 12.6 mm needs to be scrapped,\n",
    "what is the proportion of those parts? What is the CDF when the diameter is of 11\n",
    "mm?\n",
    "What is the conclusion of this experiment?"
   ]
  },
  {
   "cell_type": "markdown",
   "id": "26041881",
   "metadata": {},
   "source": [
    "- skip"
   ]
  },
  {
   "cell_type": "markdown",
   "id": "77c142bc",
   "metadata": {},
   "source": [
    "### Problem Statement 10:\n",
    "\n",
    "Please compute the following:\n",
    "a) P(Z > 1.26), . P(Z < −0.86), P(Z > −1.37), P(−1.25 < Z < 0.37), . P(Z ≤ −4.6)\n",
    "b) Find the value z such that P(Z > z) = 0.05\n",
    "c) Find the value of z such that P(−z < Z < z) = 0.99"
   ]
  },
  {
   "cell_type": "code",
   "execution_count": 18,
   "id": "b5431faa",
   "metadata": {},
   "outputs": [
    {
     "data": {
      "text/plain": [
       "0.10383468112130045"
      ]
     },
     "execution_count": 18,
     "metadata": {},
     "output_type": "execute_result"
    }
   ],
   "source": [
    "from scipy.stats import norm\n",
    "## part a\n",
    "## P(Z > 1.26)\n",
    "1 - norm.cdf(1.26, loc=0, scale=1)"
   ]
  },
  {
   "cell_type": "code",
   "execution_count": 19,
   "id": "69976769",
   "metadata": {},
   "outputs": [
    {
     "data": {
      "text/plain": [
       "0.1948945212518084"
      ]
     },
     "execution_count": 19,
     "metadata": {},
     "output_type": "execute_result"
    }
   ],
   "source": [
    "## P(Z < −0.86)\n",
    "norm.cdf(-.86, loc=0, scale=1)"
   ]
  },
  {
   "cell_type": "code",
   "execution_count": 20,
   "id": "ed669598",
   "metadata": {},
   "outputs": [
    {
     "data": {
      "text/plain": [
       "0.914656549178033"
      ]
     },
     "execution_count": 20,
     "metadata": {},
     "output_type": "execute_result"
    }
   ],
   "source": [
    "## P(Z > −1.37)\n",
    "1 - norm.cdf(-1.37, loc=0, scale=1)"
   ]
  },
  {
   "cell_type": "code",
   "execution_count": 21,
   "id": "b08a79b5",
   "metadata": {},
   "outputs": [
    {
     "data": {
      "text/plain": [
       "0.5386589811336914"
      ]
     },
     "execution_count": 21,
     "metadata": {},
     "output_type": "execute_result"
    }
   ],
   "source": [
    "## P(−1.25 < Z < 0.37)\n",
    "norm.cdf(.37, loc=0, scale=1) - norm.cdf(-1.25, loc=0, scale=1)"
   ]
  },
  {
   "cell_type": "code",
   "execution_count": 22,
   "id": "378be404",
   "metadata": {},
   "outputs": [
    {
     "data": {
      "text/plain": [
       "2.1124547025028537e-06"
      ]
     },
     "execution_count": 22,
     "metadata": {},
     "output_type": "execute_result"
    }
   ],
   "source": [
    "## P(Z ≤ −4.6)\n",
    "norm.cdf(-4.6, loc=0, scale=1)"
   ]
  },
  {
   "cell_type": "code",
   "execution_count": 23,
   "id": "332134b8",
   "metadata": {},
   "outputs": [
    {
     "data": {
      "text/plain": [
       "1.6448536269514722"
      ]
     },
     "execution_count": 23,
     "metadata": {},
     "output_type": "execute_result"
    }
   ],
   "source": [
    "## part b - P(Z > z) = 0.05\n",
    "norm.ppf(1-0.05, loc=0, scale=1)"
   ]
  },
  {
   "cell_type": "code",
   "execution_count": 24,
   "id": "d96ba553",
   "metadata": {},
   "outputs": [
    {
     "data": {
      "text/plain": [
       "-1.6448536269514729"
      ]
     },
     "execution_count": 24,
     "metadata": {},
     "output_type": "execute_result"
    }
   ],
   "source": [
    "## part c - P(−z < Z < z) = 0.99\n",
    "norm.ppf(0.05, loc=0, scale=1)\n",
    "## z = 1.645"
   ]
  },
  {
   "cell_type": "code",
   "execution_count": null,
   "id": "041d2e82",
   "metadata": {},
   "outputs": [],
   "source": []
  },
  {
   "cell_type": "markdown",
   "id": "d46bdaa4",
   "metadata": {},
   "source": [
    "### Problem Statement 11:\n",
    "\n",
    "The current flow in a copper wire follow a normal distribution with a mean of 10 mA\n",
    "and a variance of 4 (mA)2.\n",
    "What is the probability that a current measurement will exceed 13 mA? What is the\n",
    "probability that a current measurement is between 9 and 11mA? Determine the\n",
    "current measurement which has a probability of 0.98."
   ]
  },
  {
   "cell_type": "markdown",
   "id": "8f4e8447",
   "metadata": {},
   "source": [
    "ANS:\n",
    "- X:current flow in a copper wire\n",
    "- X~N(10,4)"
   ]
  },
  {
   "cell_type": "code",
   "execution_count": 25,
   "id": "69ea177c",
   "metadata": {},
   "outputs": [
    {
     "data": {
      "text/plain": [
       "0.06680720126885809"
      ]
     },
     "execution_count": 25,
     "metadata": {},
     "output_type": "execute_result"
    }
   ],
   "source": [
    "## P(X>13)\n",
    "1 - norm.cdf(13, loc=10, scale=2)"
   ]
  },
  {
   "cell_type": "code",
   "execution_count": 26,
   "id": "c52e80c2",
   "metadata": {},
   "outputs": [
    {
     "data": {
      "text/plain": [
       "0.38292492254802624"
      ]
     },
     "execution_count": 26,
     "metadata": {},
     "output_type": "execute_result"
    }
   ],
   "source": [
    "## P(9>X>11)\n",
    "norm.cdf(11, loc=10, scale=2) - norm.cdf(9, loc=10, scale=2)"
   ]
  },
  {
   "cell_type": "code",
   "execution_count": 27,
   "id": "e9cf9361",
   "metadata": {},
   "outputs": [
    {
     "data": {
      "text/plain": [
       "(5.3473042519183185, 14.652695748081682)"
      ]
     },
     "execution_count": 27,
     "metadata": {},
     "output_type": "execute_result"
    }
   ],
   "source": [
    "## P(l < X < u) = 0.98\n",
    "norm.ppf(0.01, loc=10, scale=2),norm.ppf(.99, loc=10, scale=2)\n",
    "## l = 5.35\n",
    "## u = 14.65"
   ]
  },
  {
   "cell_type": "markdown",
   "id": "0b1eb5bc",
   "metadata": {},
   "source": [
    "### Problem Statement 12:\n",
    "\n",
    "The shaft in a piston has its diameter normally distributed with a mean of 0.2508 inch\n",
    "and a standard deviation of 0.0005 inch. The specifications of the shaft are 0.2500 ∓\n",
    "0.0015 inch. What proportion of shafts are in sync with the specifications? If the\n",
    "process is centered so that the mean is equal to the target value of 0.2500, what\n",
    "proportion of shafts conform to the new specifications? What is your conclusion from\n",
    "this experiment?"
   ]
  },
  {
   "cell_type": "markdown",
   "id": "1416200c",
   "metadata": {},
   "source": [
    "ANS:\n",
    "- X:shaft in a piston\n",
    "- X~N(0.2508 , 0.0005^2)"
   ]
  },
  {
   "cell_type": "code",
   "execution_count": 28,
   "id": "d1e90737",
   "metadata": {},
   "outputs": [
    {
     "data": {
      "text/plain": [
       "0.91924122831152"
      ]
     },
     "execution_count": 28,
     "metadata": {},
     "output_type": "execute_result"
    }
   ],
   "source": [
    "#P(.25-.0015<X<.25+.0015)\n",
    "norm.cdf(0.25+0.0015, loc=0.2508, scale=0.0005) - norm.cdf(0.25-0.0015, loc=0.2508, scale=0.0005) "
   ]
  },
  {
   "cell_type": "code",
   "execution_count": 29,
   "id": "ee1d7742",
   "metadata": {},
   "outputs": [
    {
     "data": {
      "text/plain": [
       "0.9973002039367398"
      ]
     },
     "execution_count": 29,
     "metadata": {},
     "output_type": "execute_result"
    }
   ],
   "source": [
    "## if X~N(0.2500 , 0.0005^2)\n",
    "# P(.25-.0015<X<.25+.0015)\n",
    "norm.cdf(0.25+0.0015, loc=0.2500, scale=0.0005) - norm.cdf(0.25-0.0015, loc=0.2500, scale=0.0005) "
   ]
  },
  {
   "cell_type": "markdown",
   "id": "2fec1417",
   "metadata": {},
   "source": [
    " - if the mean of shafts in a piston is more close to the target value,\n",
    " - more shafts in a piston are in sync with the specifications"
   ]
  }
 ],
 "metadata": {
  "kernelspec": {
   "display_name": "Python 3",
   "language": "python",
   "name": "python3"
  },
  "language_info": {
   "codemirror_mode": {
    "name": "ipython",
    "version": 3
   },
   "file_extension": ".py",
   "mimetype": "text/x-python",
   "name": "python",
   "nbconvert_exporter": "python",
   "pygments_lexer": "ipython3",
   "version": "3.7.9"
  }
 },
 "nbformat": 4,
 "nbformat_minor": 5
}
