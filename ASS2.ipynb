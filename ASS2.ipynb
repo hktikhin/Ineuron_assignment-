{
 "cells": [
  {
   "cell_type": "markdown",
   "metadata": {},
   "source": [
    "# Problem 1\n",
    "## 1. Create the below pattern using nested for loop in Python."
   ]
  },
  {
   "cell_type": "code",
   "execution_count": 83,
   "metadata": {},
   "outputs": [
    {
     "name": "stdout",
     "output_type": "stream",
     "text": [
      "*\n",
      "**\n",
      "***\n",
      "****\n",
      "*****\n",
      "****\n",
      "***\n",
      "**\n",
      "*\n"
     ]
    }
   ],
   "source": [
    "## M1:using list to reverse the order.\n",
    "lst = []\n",
    "for i in range(1,6):\n",
    "    lst.append(i*\"*\")\n",
    "    \n",
    "output  = lst + lst[-2::-1]\n",
    "\n",
    "for j in output:\n",
    "    print(j)"
   ]
  },
  {
   "cell_type": "code",
   "execution_count": 86,
   "metadata": {},
   "outputs": [
    {
     "name": "stdout",
     "output_type": "stream",
     "text": [
      "*\n",
      "**\n",
      "***\n",
      "****\n",
      "*****\n",
      "****\n",
      "***\n",
      "**\n",
      "*\n"
     ]
    }
   ],
   "source": [
    "## M2:using nested for loop in python.\n",
    "def starchar(n):\n",
    "    for i in range(1,n+1):\n",
    "        str1 = \"\"\n",
    "        for j in range(i):\n",
    "            str1 += \"*\"\n",
    "        print(str1)\n",
    "    \n",
    "    for i in range(n-1,0,-1):\n",
    "        str1 = \"\"\n",
    "        for j in range(i):\n",
    "            str1 += \"*\"\n",
    "        print(str1)\n",
    "\n",
    "starchar(5)\n",
    "        "
   ]
  },
  {
   "cell_type": "code",
   "execution_count": 85,
   "metadata": {},
   "outputs": [
    {
     "name": "stdout",
     "output_type": "stream",
     "text": [
      "*\n",
      "**\n",
      "***\n",
      "****\n",
      "*****\n",
      "****\n",
      "***\n",
      "**\n",
      "*\n"
     ]
    }
   ],
   "source": [
    "## M3:Using exactly one for loop \n",
    "def starchart(n):\n",
    "    str2 = \"\"\n",
    "    for i in range(1,n+1):\n",
    "        str1 = \"\"\n",
    "        for j in range(i):\n",
    "            str1 += \"*\"\n",
    "        if i<n:\n",
    "            str2 += str1 +\"\\n\" \n",
    "        print(str1)\n",
    "    print(str2[-2::-1])\n",
    "\n",
    "starchart(5)\n",
    "\n"
   ]
  },
  {
   "cell_type": "markdown",
   "metadata": {},
   "source": [
    "# Problem 2\n",
    "## 2. Write a Python program to reverse a word after accepting the input from the user."
   ]
  },
  {
   "cell_type": "code",
   "execution_count": 90,
   "metadata": {},
   "outputs": [
    {
     "name": "stdout",
     "output_type": "stream",
     "text": [
      "What words do you want to reverse?ineuron\n",
      "norueni\n"
     ]
    }
   ],
   "source": [
    "str1 = input(\"What words do you want to reverse?\")\n",
    "print(str1[::-1])"
   ]
  },
  {
   "cell_type": "code",
   "execution_count": null,
   "metadata": {},
   "outputs": [],
   "source": []
  }
 ],
 "metadata": {
  "kernelspec": {
   "display_name": "Python 3",
   "language": "python",
   "name": "python3"
  },
  "language_info": {
   "codemirror_mode": {
    "name": "ipython",
    "version": 3
   },
   "file_extension": ".py",
   "mimetype": "text/x-python",
   "name": "python",
   "nbconvert_exporter": "python",
   "pygments_lexer": "ipython3",
   "version": "3.7.6"
  }
 },
 "nbformat": 4,
 "nbformat_minor": 4
}
