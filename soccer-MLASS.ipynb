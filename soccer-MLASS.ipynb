{
 "cells": [
  {
   "cell_type": "markdown",
   "id": "e056b560",
   "metadata": {},
   "source": [
    "In this project you are going to predict the overall rating of soccer player based on their\n",
    "attributes such as 'crossing', 'finishing etc."
   ]
  },
  {
   "cell_type": "code",
   "execution_count": 1,
   "id": "6c06dc12",
   "metadata": {},
   "outputs": [],
   "source": [
    "import sqlite3\n",
    "import pandas as pd \n",
    "import numpy as np\n",
    "from sklearn.tree import DecisionTreeRegressor\n",
    "from sklearn.linear_model import SGDRegressor\n",
    "from sklearn.model_selection import train_test_split\n",
    "from sklearn.metrics import mean_squared_error\n",
    "from math import sqrt\n"
   ]
  },
  {
   "cell_type": "code",
   "execution_count": 2,
   "id": "aa850235",
   "metadata": {},
   "outputs": [],
   "source": [
    "### reading data from database \n",
    "connect = sqlite3.connect('database.sqlite')\n",
    "df = pd.read_sql_query('SELECT * FROM Player_Attributes',connect)"
   ]
  },
  {
   "cell_type": "code",
   "execution_count": 3,
   "id": "2ba87e42",
   "metadata": {
    "scrolled": true
   },
   "outputs": [],
   "source": [
    "## drop useless columns \n",
    "df.drop(columns=['id','player_fifa_api_id','player_api_id','date'],inplace=True)"
   ]
  },
  {
   "cell_type": "code",
   "execution_count": 4,
   "id": "764b02be",
   "metadata": {
    "scrolled": true
   },
   "outputs": [
    {
     "data": {
      "text/plain": [
       "overall_rating          836\n",
       "potential               836\n",
       "preferred_foot          836\n",
       "attacking_work_rate    3230\n",
       "defensive_work_rate     836\n",
       "crossing                836\n",
       "finishing               836\n",
       "heading_accuracy        836\n",
       "short_passing           836\n",
       "volleys                2713\n",
       "dribbling               836\n",
       "curve                  2713\n",
       "free_kick_accuracy      836\n",
       "long_passing            836\n",
       "ball_control            836\n",
       "acceleration            836\n",
       "sprint_speed            836\n",
       "agility                2713\n",
       "reactions               836\n",
       "balance                2713\n",
       "shot_power              836\n",
       "jumping                2713\n",
       "stamina                 836\n",
       "strength                836\n",
       "long_shots              836\n",
       "aggression              836\n",
       "interceptions           836\n",
       "positioning             836\n",
       "vision                 2713\n",
       "penalties               836\n",
       "marking                 836\n",
       "standing_tackle         836\n",
       "sliding_tackle         2713\n",
       "gk_diving               836\n",
       "gk_handling             836\n",
       "gk_kicking              836\n",
       "gk_positioning          836\n",
       "gk_reflexes             836\n",
       "dtype: int64"
      ]
     },
     "execution_count": 4,
     "metadata": {},
     "output_type": "execute_result"
    }
   ],
   "source": [
    "df.isnull().sum()"
   ]
  },
  {
   "cell_type": "code",
   "execution_count": 5,
   "id": "c4902ef0",
   "metadata": {
    "scrolled": true
   },
   "outputs": [],
   "source": [
    "## drop/ fill missing value \n",
    "df.dropna(how='all',axis=0,inplace=True)"
   ]
  },
  {
   "cell_type": "code",
   "execution_count": 6,
   "id": "3633cffe",
   "metadata": {
    "scrolled": false
   },
   "outputs": [],
   "source": [
    "col_hav_missing = df.isnull().sum()[df.isnull().sum()>0].index"
   ]
  },
  {
   "cell_type": "code",
   "execution_count": 7,
   "id": "e09c33e8",
   "metadata": {},
   "outputs": [
    {
     "name": "stdout",
     "output_type": "stream",
     "text": [
      "<class 'pandas.core.frame.DataFrame'>\n",
      "Int64Index: 183142 entries, 0 to 183977\n",
      "Data columns (total 38 columns):\n",
      " #   Column               Non-Null Count   Dtype  \n",
      "---  ------               --------------   -----  \n",
      " 0   overall_rating       183142 non-null  float64\n",
      " 1   potential            183142 non-null  float64\n",
      " 2   preferred_foot       183142 non-null  object \n",
      " 3   attacking_work_rate  180748 non-null  object \n",
      " 4   defensive_work_rate  183142 non-null  object \n",
      " 5   crossing             183142 non-null  float64\n",
      " 6   finishing            183142 non-null  float64\n",
      " 7   heading_accuracy     183142 non-null  float64\n",
      " 8   short_passing        183142 non-null  float64\n",
      " 9   volleys              181265 non-null  float64\n",
      " 10  dribbling            183142 non-null  float64\n",
      " 11  curve                181265 non-null  float64\n",
      " 12  free_kick_accuracy   183142 non-null  float64\n",
      " 13  long_passing         183142 non-null  float64\n",
      " 14  ball_control         183142 non-null  float64\n",
      " 15  acceleration         183142 non-null  float64\n",
      " 16  sprint_speed         183142 non-null  float64\n",
      " 17  agility              181265 non-null  float64\n",
      " 18  reactions            183142 non-null  float64\n",
      " 19  balance              181265 non-null  float64\n",
      " 20  shot_power           183142 non-null  float64\n",
      " 21  jumping              181265 non-null  float64\n",
      " 22  stamina              183142 non-null  float64\n",
      " 23  strength             183142 non-null  float64\n",
      " 24  long_shots           183142 non-null  float64\n",
      " 25  aggression           183142 non-null  float64\n",
      " 26  interceptions        183142 non-null  float64\n",
      " 27  positioning          183142 non-null  float64\n",
      " 28  vision               181265 non-null  float64\n",
      " 29  penalties            183142 non-null  float64\n",
      " 30  marking              183142 non-null  float64\n",
      " 31  standing_tackle      183142 non-null  float64\n",
      " 32  sliding_tackle       181265 non-null  float64\n",
      " 33  gk_diving            183142 non-null  float64\n",
      " 34  gk_handling          183142 non-null  float64\n",
      " 35  gk_kicking           183142 non-null  float64\n",
      " 36  gk_positioning       183142 non-null  float64\n",
      " 37  gk_reflexes          183142 non-null  float64\n",
      "dtypes: float64(35), object(3)\n",
      "memory usage: 54.5+ MB\n"
     ]
    }
   ],
   "source": [
    "df.info()"
   ]
  },
  {
   "cell_type": "code",
   "execution_count": 8,
   "id": "bd41c5cc",
   "metadata": {},
   "outputs": [],
   "source": [
    "categorical_variables = df.dtypes [df.dtypes == 'O'].index"
   ]
  },
  {
   "cell_type": "code",
   "execution_count": 9,
   "id": "5284bc5f",
   "metadata": {},
   "outputs": [
    {
     "name": "stdout",
     "output_type": "stream",
     "text": [
      "right    138409\n",
      "left      44733\n",
      "Name: preferred_foot, dtype: int64\n",
      "medium    125070\n",
      "high       42823\n",
      "low         8569\n",
      "None        3639\n",
      "norm         348\n",
      "y            106\n",
      "le           104\n",
      "stoc          89\n",
      "Name: attacking_work_rate, dtype: int64\n",
      "medium    130846\n",
      "high       27041\n",
      "low        18432\n",
      "_0          2394\n",
      "o           1550\n",
      "1            441\n",
      "ormal        348\n",
      "2            342\n",
      "3            258\n",
      "5            234\n",
      "7            217\n",
      "0            197\n",
      "6            197\n",
      "9            152\n",
      "4            116\n",
      "es           106\n",
      "ean          104\n",
      "tocky         89\n",
      "8             78\n",
      "Name: defensive_work_rate, dtype: int64\n"
     ]
    }
   ],
   "source": [
    "for col in categorical_variables:\n",
    "    print(df[col].value_counts())"
   ]
  },
  {
   "cell_type": "code",
   "execution_count": 10,
   "id": "48d80ec3",
   "metadata": {},
   "outputs": [],
   "source": [
    "create_missing_col = False\n",
    "for col in col_hav_missing:\n",
    "    if df[col].dtype == 'O':\n",
    "        df[col].fillna('None',inplace = True)\n",
    "    else:\n",
    "        if not create_missing_col: \n",
    "            df['missing'] = np.where(df[col].isnull(),1,0) \n",
    "            create_missing_col = True\n",
    "        df[col].fillna(df[col].median(),inplace = True)"
   ]
  },
  {
   "cell_type": "code",
   "execution_count": 11,
   "id": "115dde05",
   "metadata": {},
   "outputs": [
    {
     "data": {
      "text/plain": [
       "Index(['attacking_work_rate', 'volleys', 'curve', 'agility', 'balance',\n",
       "       'jumping', 'vision', 'sliding_tackle'],\n",
       "      dtype='object')"
      ]
     },
     "execution_count": 11,
     "metadata": {},
     "output_type": "execute_result"
    }
   ],
   "source": [
    "col_hav_missing"
   ]
  },
  {
   "cell_type": "code",
   "execution_count": 12,
   "id": "ed62493f",
   "metadata": {},
   "outputs": [
    {
     "data": {
      "text/plain": [
       "1877"
      ]
     },
     "execution_count": 12,
     "metadata": {},
     "output_type": "execute_result"
    }
   ],
   "source": [
    "(df['missing'] == 1).sum()"
   ]
  },
  {
   "cell_type": "code",
   "execution_count": 13,
   "id": "bea3f62b",
   "metadata": {
    "scrolled": true
   },
   "outputs": [],
   "source": [
    "## dealing with categorical variable \n",
    "categorical_variables = df.dtypes [df.dtypes == 'O'].index\n",
    "\n",
    "df = pd.concat([df.drop(columns=categorical_variables),\n",
    "                pd.get_dummies(df[categorical_variables],prefix=categorical_variables,drop_first=True)],axis = 1)"
   ]
  },
  {
   "cell_type": "code",
   "execution_count": 14,
   "id": "b3777532",
   "metadata": {},
   "outputs": [],
   "source": [
    "## split X and y\n",
    "X = df.drop(columns=['overall_rating'])\n",
    "y = df['overall_rating']"
   ]
  },
  {
   "cell_type": "code",
   "execution_count": 15,
   "id": "e3df7f23",
   "metadata": {
    "scrolled": true
   },
   "outputs": [
    {
     "name": "stdout",
     "output_type": "stream",
     "text": [
      "gk_kicking\n",
      "preferred_foot_right\n"
     ]
    }
   ],
   "source": [
    "## correlation test using spearman correlation \n",
    "from scipy.stats import spearmanr\n",
    "for col in X.columns:\n",
    "    rho, pval = spearmanr(X[col], y)\n",
    "    if pval>.05:\n",
    "        print(col)\n",
    "        del X[col]"
   ]
  },
  {
   "cell_type": "code",
   "execution_count": 16,
   "id": "c5bc30ca",
   "metadata": {},
   "outputs": [],
   "source": [
    "## train test split \n",
    "X_train,X_test,y_train,y_test = train_test_split(X,y,test_size = .3,random_state=2123)"
   ]
  },
  {
   "cell_type": "code",
   "execution_count": 17,
   "id": "5af2fa63",
   "metadata": {},
   "outputs": [],
   "source": [
    "## split for hyperparameter tunning \n",
    "X_train1,X_test1,y_train1,y_test1 = train_test_split(X,y,train_size = .3,random_state=1234)"
   ]
  },
  {
   "cell_type": "code",
   "execution_count": 18,
   "id": "959bc6ab",
   "metadata": {
    "scrolled": true
   },
   "outputs": [
    {
     "data": {
      "text/plain": [
       "Pipeline(steps=[('standard_scaling', StandardScaler()),\n",
       "                ('ElasticNet',\n",
       "                 SGDRegressor(alpha=0.01, l1_ratio=1, penalty='elasticnet'))])"
      ]
     },
     "execution_count": 18,
     "metadata": {},
     "output_type": "execute_result"
    }
   ],
   "source": [
    "## model building -- regression \n",
    "from sklearn.preprocessing import StandardScaler\n",
    "from sklearn.pipeline import Pipeline\n",
    "params = {'penalty':'elasticnet','l1_ratio': 1, 'alpha': 0.01}\n",
    "pipeLinear = Pipeline([('standard_scaling', StandardScaler()),('ElasticNet',SGDRegressor(**params))])\n",
    "pipeLinear.fit(X_train,y_train)"
   ]
  },
  {
   "cell_type": "code",
   "execution_count": 19,
   "id": "d8d471cd",
   "metadata": {},
   "outputs": [
    {
     "data": {
      "text/plain": [
       "0.8361921391801014"
      ]
     },
     "execution_count": 19,
     "metadata": {},
     "output_type": "execute_result"
    }
   ],
   "source": [
    "pipeLinear.score(X_test,y_test)"
   ]
  },
  {
   "cell_type": "code",
   "execution_count": 21,
   "id": "86c4e667",
   "metadata": {},
   "outputs": [
    {
     "data": {
      "text/plain": [
       "DecisionTreeRegressor(random_state=0)"
      ]
     },
     "execution_count": 21,
     "metadata": {},
     "output_type": "execute_result"
    }
   ],
   "source": [
    "## model building -- decision tree \n",
    "regressor = DecisionTreeRegressor(random_state=0)\n",
    "regressor.fit(X_train,y_train)"
   ]
  },
  {
   "cell_type": "code",
   "execution_count": 22,
   "id": "92f4041a",
   "metadata": {},
   "outputs": [
    {
     "data": {
      "text/plain": [
       "0.9593466565883333"
      ]
     },
     "execution_count": 22,
     "metadata": {},
     "output_type": "execute_result"
    }
   ],
   "source": [
    "regressor.score(X_test,y_test)"
   ]
  }
 ],
 "metadata": {
  "kernelspec": {
   "display_name": "Python 3",
   "language": "python",
   "name": "python3"
  },
  "language_info": {
   "codemirror_mode": {
    "name": "ipython",
    "version": 3
   },
   "file_extension": ".py",
   "mimetype": "text/x-python",
   "name": "python",
   "nbconvert_exporter": "python",
   "pygments_lexer": "ipython3",
   "version": "3.8.8"
  }
 },
 "nbformat": 4,
 "nbformat_minor": 5
}
