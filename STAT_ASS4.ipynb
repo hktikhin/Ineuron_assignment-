{
 "cells": [
  {
   "cell_type": "markdown",
   "id": "56849489",
   "metadata": {},
   "source": [
    "### Problem Statement 1:\n",
    "Is gender independent of education level? A random sample of 395 people were\n",
    "surveyed and each person was asked to report the highest education level they\n",
    "obtained. The data that resulted from the survey is summarized in the following table:\n",
    "\n",
    "   High School Bachelors Masters Ph.d. Total\n",
    "  \n",
    "Female 60 54 46 41 201\n",
    "\n",
    "Male 40 44 53 57 194\n",
    "\n",
    "Total 100 98 99 98 395\n",
    "\n",
    "\n",
    "Question: Are gender and education level dependent at 5% level of significance? In\n",
    "other words, given the data collected above, is there a relationship between the\n",
    "gender of an individual and the level of education that they have obtained?"
   ]
  },
  {
   "cell_type": "markdown",
   "id": "a3be6fb5",
   "metadata": {},
   "source": [
    "ANS:\n",
    "- H0:two rv independent, H1: two rv correlated"
   ]
  },
  {
   "cell_type": "code",
   "execution_count": 1,
   "id": "30321e2f",
   "metadata": {},
   "outputs": [
    {
     "data": {
      "text/html": [
       "<div>\n",
       "<style scoped>\n",
       "    .dataframe tbody tr th:only-of-type {\n",
       "        vertical-align: middle;\n",
       "    }\n",
       "\n",
       "    .dataframe tbody tr th {\n",
       "        vertical-align: top;\n",
       "    }\n",
       "\n",
       "    .dataframe thead th {\n",
       "        text-align: right;\n",
       "    }\n",
       "</style>\n",
       "<table border=\"1\" class=\"dataframe\">\n",
       "  <thead>\n",
       "    <tr style=\"text-align: right;\">\n",
       "      <th></th>\n",
       "      <th>High School</th>\n",
       "      <th>Bachelors</th>\n",
       "      <th>Masters</th>\n",
       "      <th>Ph.d.</th>\n",
       "    </tr>\n",
       "  </thead>\n",
       "  <tbody>\n",
       "    <tr>\n",
       "      <th>0</th>\n",
       "      <td>60</td>\n",
       "      <td>54</td>\n",
       "      <td>46</td>\n",
       "      <td>41</td>\n",
       "    </tr>\n",
       "    <tr>\n",
       "      <th>1</th>\n",
       "      <td>40</td>\n",
       "      <td>44</td>\n",
       "      <td>53</td>\n",
       "      <td>57</td>\n",
       "    </tr>\n",
       "  </tbody>\n",
       "</table>\n",
       "</div>"
      ],
      "text/plain": [
       "   High School   Bachelors  Masters  Ph.d.\n",
       "0            60         54       46     41\n",
       "1            40         44       53     57"
      ]
     },
     "execution_count": 1,
     "metadata": {},
     "output_type": "execute_result"
    }
   ],
   "source": [
    "import pandas as pd\n",
    "from scipy.stats import chi2\n",
    "obs = pd.DataFrame({\"High School \":[60,40],'Bachelors':[54,44],\"Masters\":[46,53],\"Ph.d.\":[41,57]})\n",
    "## 0 : female,1:male\n",
    "colSum = obs.sum(axis=0)\n",
    "rowSum = obs.sum(axis=1)\n",
    "total = sum(colSum)\n",
    "obs"
   ]
  },
  {
   "cell_type": "code",
   "execution_count": 2,
   "id": "5f9a5aeb",
   "metadata": {},
   "outputs": [
    {
     "data": {
      "text/html": [
       "<div>\n",
       "<style scoped>\n",
       "    .dataframe tbody tr th:only-of-type {\n",
       "        vertical-align: middle;\n",
       "    }\n",
       "\n",
       "    .dataframe tbody tr th {\n",
       "        vertical-align: top;\n",
       "    }\n",
       "\n",
       "    .dataframe thead th {\n",
       "        text-align: right;\n",
       "    }\n",
       "</style>\n",
       "<table border=\"1\" class=\"dataframe\">\n",
       "  <thead>\n",
       "    <tr style=\"text-align: right;\">\n",
       "      <th></th>\n",
       "      <th>High School</th>\n",
       "      <th>Bachelors</th>\n",
       "      <th>Masters</th>\n",
       "      <th>Ph.d.</th>\n",
       "    </tr>\n",
       "  </thead>\n",
       "  <tbody>\n",
       "    <tr>\n",
       "      <th>0</th>\n",
       "      <td>50.886076</td>\n",
       "      <td>49.868354</td>\n",
       "      <td>50.377215</td>\n",
       "      <td>49.868354</td>\n",
       "    </tr>\n",
       "    <tr>\n",
       "      <th>1</th>\n",
       "      <td>49.113924</td>\n",
       "      <td>48.131646</td>\n",
       "      <td>48.622785</td>\n",
       "      <td>48.131646</td>\n",
       "    </tr>\n",
       "  </tbody>\n",
       "</table>\n",
       "</div>"
      ],
      "text/plain": [
       "   High School   Bachelors    Masters      Ph.d.\n",
       "0     50.886076  49.868354  50.377215  49.868354\n",
       "1     49.113924  48.131646  48.622785  48.131646"
      ]
     },
     "execution_count": 2,
     "metadata": {},
     "output_type": "execute_result"
    }
   ],
   "source": [
    "exp = pd.DataFrame()\n",
    "for i,colName in zip(colSum,obs.columns):\n",
    "    exp[colName] = [i*j/total for j in rowSum]\n",
    "exp"
   ]
  },
  {
   "cell_type": "code",
   "execution_count": 3,
   "id": "58d1057a",
   "metadata": {},
   "outputs": [
    {
     "data": {
      "text/plain": [
       "0.04588650089174717"
      ]
     },
     "execution_count": 3,
     "metadata": {},
     "output_type": "execute_result"
    }
   ],
   "source": [
    "chi2_cal = 0\n",
    "df = (len(obs.columns)-1)*(len(obs.index)-1)\n",
    "for lst1, lst2 in zip(obs.values,exp.values):\n",
    "    for o,e in zip(lst1, lst2):\n",
    "        chi2_cal += (o-e)**2/e\n",
    "## assume alpha = 5% \n",
    "alpha = .05\n",
    "pval = 1-chi2.cdf(chi2_cal, df, loc=0, scale=1)\n",
    "pval"
   ]
  },
  {
   "cell_type": "code",
   "execution_count": 4,
   "id": "337ead8a",
   "metadata": {},
   "outputs": [
    {
     "data": {
      "text/plain": [
       "True"
      ]
     },
     "execution_count": 4,
     "metadata": {},
     "output_type": "execute_result"
    }
   ],
   "source": [
    "pval<alpha\n",
    "## reject H0"
   ]
  },
  {
   "cell_type": "code",
   "execution_count": null,
   "id": "c15dc19e",
   "metadata": {},
   "outputs": [],
   "source": []
  },
  {
   "cell_type": "markdown",
   "id": "8166cc7e",
   "metadata": {},
   "source": [
    "### Problem Statement 2:\n",
    "Using the following data, perform a oneway analysis of variance using α=.05. Write\n",
    "up the results in APA format.\n",
    "\n",
    "[Group1: 51, 45, 33, 45, 67]\n",
    "[Group2: 23, 43, 23, 43, 45]\n",
    "[Group3: 56, 76, 74, 87, 56]"
   ]
  },
  {
   "cell_type": "markdown",
   "id": "24f0347d",
   "metadata": {},
   "source": [
    "ANS:\n",
    "- H0:mu1 = mu2 = mu3,H1:at least one group have different mean"
   ]
  },
  {
   "cell_type": "code",
   "execution_count": 5,
   "id": "6db43b8b",
   "metadata": {},
   "outputs": [
    {
     "data": {
      "text/plain": [
       "(51.13333333333333,\n",
       " Group1     48.2\n",
       " Group2     35.4\n",
       " Group3     69.8\n",
       " dtype: float64,\n",
       " Group1     12.377399\n",
       " Group2     11.349009\n",
       " Group3     13.535139\n",
       " dtype: float64)"
      ]
     },
     "execution_count": 5,
     "metadata": {},
     "output_type": "execute_result"
    }
   ],
   "source": [
    "from scipy.stats import f\n",
    "data = pd.DataFrame({\"Group1 \":[51, 45, 33, 45, 67],'Group2':[23, 43, 23, 43, 45],\"Group3\":[56, 76, 74, 87, 56]})\n",
    "# number of gps\n",
    "k = len(data.columns)\n",
    "# number of observation in each gp\n",
    "n = len(data)\n",
    "N = n*k\n",
    "\n",
    "grant_mean = sum(data.sum())/N\n",
    "gp_means = data.mean()\n",
    "gp_sameple_sds = data.std()\n",
    "grant_mean,gp_means,gp_sameple_sds"
   ]
  },
  {
   "cell_type": "code",
   "execution_count": 6,
   "id": "5a9b2ee9",
   "metadata": {},
   "outputs": [
    {
     "data": {
      "text/plain": [
       "0.003059754143443061"
      ]
     },
     "execution_count": 6,
     "metadata": {},
     "output_type": "execute_result"
    }
   ],
   "source": [
    "## sum sqare between the gps\n",
    "SSB = 0\n",
    "for gp_mean in gp_means:\n",
    "    SSB += n*(gp_mean - grant_mean)**2\n",
    "## sum sqare within the gps\n",
    "SSW = 0\n",
    "for gp_sameple_sd in gp_sameple_sds:\n",
    "    SSW += (n-1)*gp_sameple_sd**2\n",
    "alpha = .05\n",
    "dfb = k-1\n",
    "dfw = N-k\n",
    "MSB = SSB/dfb\n",
    "MSW = SSW/dfw\n",
    "f_cal = MSB/MSW\n",
    "1 - f.cdf(f_cal, k-1, N-k, loc=0, scale=1)"
   ]
  },
  {
   "cell_type": "code",
   "execution_count": 7,
   "id": "3fa6fd58",
   "metadata": {},
   "outputs": [
    {
     "data": {
      "text/plain": [
       "True"
      ]
     },
     "execution_count": 7,
     "metadata": {},
     "output_type": "execute_result"
    }
   ],
   "source": [
    "pval<alpha\n",
    "## reject H0"
   ]
  },
  {
   "cell_type": "code",
   "execution_count": 8,
   "id": "afb44456",
   "metadata": {},
   "outputs": [
    {
     "name": "stdout",
     "output_type": "stream",
     "text": [
      "--------------------------------------------------------------------------------\n",
      "Source\tdf\tSS\t\t\tMS\t\t\tf\n",
      "Between\t2\t3022.933333333333\t1511.4666666666665\t9.747205503009457\n",
      "Within\t12\t1860.8\t\t\t155.06666666666666\n",
      "Total\t14\t4883.733333333333\t\n",
      "--------------------------------------------------------------------------------\n",
      "\n"
     ]
    }
   ],
   "source": [
    "print(f'''{'-'*80}\n",
    "Source\\tdf\\tSS\\t\\t\\tMS\\t\\t\\tf\n",
    "Between\\t{dfb}\\t{SSB}\\t{MSB}\\t{f_cal}\n",
    "Within\\t{dfw}\\t{SSW}\\t\\t\\t{MSW}\n",
    "Total\\t{dfb+dfw}\\t{SSB+SSW}\\t\n",
    "{'-'*80}\n",
    "''')"
   ]
  },
  {
   "cell_type": "markdown",
   "id": "8e301117",
   "metadata": {},
   "source": [
    "### Problem Statement 3:\n",
    "Calculate F Test for given 10, 20, 30, 40, 50 and 5,10,15, 20, 25.\n",
    "For 10, 20, 30, 40, 50:"
   ]
  },
  {
   "cell_type": "code",
   "execution_count": 9,
   "id": "9ea7a164",
   "metadata": {},
   "outputs": [
    {
     "data": {
      "text/plain": [
       "(22.5,\n",
       " Group1     30.0\n",
       " Group2     15.0\n",
       " dtype: float64,\n",
       " Group1     15.811388\n",
       " Group2      7.905694\n",
       " dtype: float64)"
      ]
     },
     "execution_count": 9,
     "metadata": {},
     "output_type": "execute_result"
    }
   ],
   "source": [
    "data = pd.DataFrame({\"Group1 \":[10, 20, 30, 40, 50],'Group2':[5,10,15, 20, 25]})\n",
    "# number of gps\n",
    "k = len(data.columns)\n",
    "# number of observation in each gp\n",
    "n = len(data)\n",
    "N = n*k\n",
    "\n",
    "grant_mean = sum(data.sum())/N\n",
    "gp_means = data.mean()\n",
    "gp_sameple_sds = data.std()\n",
    "grant_mean,gp_means,gp_sameple_sds"
   ]
  },
  {
   "cell_type": "code",
   "execution_count": 10,
   "id": "383bd51d",
   "metadata": {},
   "outputs": [
    {
     "data": {
      "text/plain": [
       "0.09434977284243773"
      ]
     },
     "execution_count": 10,
     "metadata": {},
     "output_type": "execute_result"
    }
   ],
   "source": [
    "## sum sqare between the gps\n",
    "SSB = 0\n",
    "for gp_mean in gp_means:\n",
    "    SSB += n*(gp_mean - grant_mean)**2\n",
    "## sum sqare within the gps\n",
    "SSW = 0\n",
    "for gp_sameple_sd in gp_sameple_sds:\n",
    "    SSW += (n-1)*gp_sameple_sd**2\n",
    "alpha = .05\n",
    "dfb = k-1\n",
    "dfw = N-k\n",
    "MSB = SSB/dfb\n",
    "MSW = SSW/dfw\n",
    "f_cal = MSB/MSW\n",
    "1 - f.cdf(f_cal, k-1, N-k, loc=0, scale=1)"
   ]
  },
  {
   "cell_type": "code",
   "execution_count": 11,
   "id": "6892223f",
   "metadata": {},
   "outputs": [
    {
     "data": {
      "text/plain": [
       "True"
      ]
     },
     "execution_count": 11,
     "metadata": {},
     "output_type": "execute_result"
    }
   ],
   "source": [
    "pval<alpha\n",
    "## reject H0"
   ]
  },
  {
   "cell_type": "code",
   "execution_count": 12,
   "id": "901c9c19",
   "metadata": {},
   "outputs": [
    {
     "name": "stdout",
     "output_type": "stream",
     "text": [
      "--------------------------------------------------------------------------------\n",
      "Source\tdf\tSS\tMS\tf\n",
      "Between\t1\t562.5\t562.5\t3.6\n",
      "Within\t8\t1250.0\t156.25\n",
      "Total\t9\t1812.5\t\n",
      "--------------------------------------------------------------------------------\n",
      "\n"
     ]
    }
   ],
   "source": [
    "print(f'''{'-'*80}\n",
    "Source\\tdf\\tSS\\tMS\\tf\n",
    "Between\\t{dfb}\\t{SSB}\\t{MSB}\\t{f_cal}\n",
    "Within\\t{dfw}\\t{SSW}\\t{MSW}\n",
    "Total\\t{dfb+dfw}\\t{SSB+SSW}\\t\n",
    "{'-'*80}\n",
    "''')"
   ]
  },
  {
   "cell_type": "code",
   "execution_count": null,
   "id": "696a9284",
   "metadata": {},
   "outputs": [],
   "source": []
  }
 ],
 "metadata": {
  "kernelspec": {
   "display_name": "Python 3",
   "language": "python",
   "name": "python3"
  },
  "language_info": {
   "codemirror_mode": {
    "name": "ipython",
    "version": 3
   },
   "file_extension": ".py",
   "mimetype": "text/x-python",
   "name": "python",
   "nbconvert_exporter": "python",
   "pygments_lexer": "ipython3",
   "version": "3.7.9"
  }
 },
 "nbformat": 4,
 "nbformat_minor": 5
}
