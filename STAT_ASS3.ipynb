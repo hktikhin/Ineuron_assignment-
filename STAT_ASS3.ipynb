{
 "cells": [
  {
   "cell_type": "markdown",
   "id": "50995113",
   "metadata": {},
   "source": [
    "### Problem Statement 1:\n",
    "Blood glucose levels for obese patients have a mean of 100 with a standard deviation of\n",
    "15. A researcher thinks that a diet high in raw cornstarch will have a positive effect on\n",
    "blood glucose levels. A sample of 36 patients who have tried the raw cornstarch diet\n",
    "have a mean glucose level of 108. Test the hypothesis that the raw cornstarch had an\n",
    "effect or not."
   ]
  },
  {
   "cell_type": "markdown",
   "id": "eb20c359",
   "metadata": {},
   "source": [
    "ANS:\n",
    "- H0:mu = 100,H1:mu>100 ,sd = 15\n",
    "- we use Z test to perform a hypothesis test"
   ]
  },
  {
   "cell_type": "code",
   "execution_count": 1,
   "id": "63a8465b",
   "metadata": {},
   "outputs": [
    {
     "data": {
      "text/plain": [
       "(0.0006871379379158604, 3.2)"
      ]
     },
     "execution_count": 1,
     "metadata": {},
     "output_type": "execute_result"
    }
   ],
   "source": [
    "import numpy as np\n",
    "from scipy.stats import norm\n",
    "mu0 = 100\n",
    "x_bar = 108\n",
    "n = 36\n",
    "sd = 15\n",
    "## assume alpha = .05\n",
    "alpha = .05\n",
    "z_cal = (x_bar-mu0)/(sd/np.sqrt(n))\n",
    "pval = 1-norm.cdf(z_cal, loc=0, scale=1)\n",
    "pval,z_cal"
   ]
  },
  {
   "cell_type": "code",
   "execution_count": 2,
   "id": "e447195b",
   "metadata": {},
   "outputs": [
    {
     "data": {
      "text/plain": [
       "True"
      ]
     },
     "execution_count": 2,
     "metadata": {},
     "output_type": "execute_result"
    }
   ],
   "source": [
    "pval <alpha\n",
    "## we reject H0"
   ]
  },
  {
   "cell_type": "markdown",
   "id": "18fe8cdb",
   "metadata": {},
   "source": [
    "### Problem Statement 2:\n",
    "In one state, 52% of the voters are Republicans, and 48% are Democrats. In a second\n",
    "state, 47% of the voters are Republicans, and 53% are Democrats. Suppose a simple\n",
    "random sample of 100 voters are surveyed from each state.\n",
    "What is the probability that the survey will show a greater percentage of Republican\n",
    "voters in the second state than in the first state?"
   ]
  },
  {
   "cell_type": "markdown",
   "id": "c45105b6",
   "metadata": {},
   "source": [
    "ANS:\n",
    "- p1_hat: estimator for percentage of Republican voters in first state\n",
    "- p2_hat: estimator for percentage of Republican voters in second state\n",
    "- p1_hat ~ N(p1,p1 * (1-p1)/n),p2_hat ~ N(p2,p2 * (1-p2)/n),n=100\n",
    "- P(p1_hat<p2_hat) = P(p1_hat-p2_hat < 0) "
   ]
  },
  {
   "cell_type": "code",
   "execution_count": 3,
   "id": "225bff80",
   "metadata": {},
   "outputs": [
    {
     "data": {
      "text/plain": [
       "(-0.7080278164104213, 0.23946399182220013)"
      ]
     },
     "execution_count": 3,
     "metadata": {},
     "output_type": "execute_result"
    }
   ],
   "source": [
    "p1 = .52\n",
    "p2 = .47\n",
    "n = 100\n",
    "## P(p1_hat-p2_hat < 0) = P(Z < z_cal) = 0.2395\n",
    "stdErr = np.sqrt(p1*(1-p1)/n+p2*(1-p2)/n)\n",
    "z_cal = (0 - (p1-p2))/(stdErr)\n",
    "z_cal,norm.cdf(z_cal, loc=0, scale=1)"
   ]
  },
  {
   "cell_type": "markdown",
   "id": "2787ede3",
   "metadata": {},
   "source": [
    "### Problem Statement 3:\n",
    "You take the SAT and score 1100. The mean score for the SAT is 1026 and the standard\n",
    "deviation is 209. How well did you score on the test compared to the average test taker?\n",
    "\n",
    "Note: Solution submitted via github must contain all the detailed steps.\n",
    "\n",
    "3.Output\n",
    "This assignment consists of 200 marks and has to be submitted in"
   ]
  },
  {
   "cell_type": "markdown",
   "id": "6b016bd8",
   "metadata": {},
   "source": [
    "ANS:\n",
    "- X: score that a student get \n",
    "- X~N(1026,209)\n",
    "- P(X<1100)"
   ]
  },
  {
   "cell_type": "code",
   "execution_count": 4,
   "id": "340aff7c",
   "metadata": {},
   "outputs": [
    {
     "data": {
      "text/plain": [
       "(0.35406698564593303, 0.6383556584353189)"
      ]
     },
     "execution_count": 4,
     "metadata": {},
     "output_type": "execute_result"
    }
   ],
   "source": [
    "## P(X<1100) = P(Z < z_cal) = 63.83%\n",
    "z_cal = (1100-1026)/209\n",
    "z_cal,norm.cdf(z_cal, loc=0, scale=1)\n",
    "## there are about 13.83% population perform better than average test taker,worse than "
   ]
  },
  {
   "cell_type": "code",
   "execution_count": null,
   "id": "cc5f0b23",
   "metadata": {},
   "outputs": [],
   "source": []
  },
  {
   "cell_type": "code",
   "execution_count": null,
   "id": "f0f87776",
   "metadata": {},
   "outputs": [],
   "source": []
  },
  {
   "cell_type": "code",
   "execution_count": null,
   "id": "352bebd7",
   "metadata": {},
   "outputs": [],
   "source": []
  },
  {
   "cell_type": "code",
   "execution_count": null,
   "id": "7c02db8a",
   "metadata": {},
   "outputs": [],
   "source": []
  },
  {
   "cell_type": "code",
   "execution_count": null,
   "id": "04a315db",
   "metadata": {},
   "outputs": [],
   "source": []
  },
  {
   "cell_type": "code",
   "execution_count": null,
   "id": "a4a29dab",
   "metadata": {},
   "outputs": [],
   "source": []
  }
 ],
 "metadata": {
  "kernelspec": {
   "display_name": "Python 3",
   "language": "python",
   "name": "python3"
  },
  "language_info": {
   "codemirror_mode": {
    "name": "ipython",
    "version": 3
   },
   "file_extension": ".py",
   "mimetype": "text/x-python",
   "name": "python",
   "nbconvert_exporter": "python",
   "pygments_lexer": "ipython3",
   "version": "3.7.9"
  }
 },
 "nbformat": 4,
 "nbformat_minor": 5
}
