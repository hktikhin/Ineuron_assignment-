{
 "cells": [
  {
   "cell_type": "markdown",
   "id": "375d0b33",
   "metadata": {},
   "source": [
    "### Problem Statement 1:\n",
    "\n",
    "In each of the following situations, state whether it is a correctly stated hypothesis\n",
    "testing problem and why?\n",
    "1. H0: μ = 25, H1: μ ≠ 25\n",
    "2. H0: σ > 10, H1: σ = 10\n",
    "3. H0: x = 50, H1: x ≠ 50\n",
    "4. H0: p = 0.1, H1: p = 0.5\n",
    "5. H0: s = 30, H1: s > 30"
   ]
  },
  {
   "cell_type": "markdown",
   "id": "2dc13cab",
   "metadata": {},
   "source": [
    "- (1) YES\n",
    "- (2) NO, H0 always have equal sign \n",
    "- (3) NO, H0/H1 is about sample \n",
    "- (4) NO, value of hypothesis different\n",
    "- (5) NO, H0/H1 is about sample"
   ]
  },
  {
   "cell_type": "markdown",
   "id": "156d1288",
   "metadata": {},
   "source": [
    "### Problem Statement 2:\n",
    "\n",
    "The college bookstore tells prospective students that the average cost of its\n",
    "textbooks is Rs. 52 with a standard deviation of Rs. 4.50. A group of smart statistics\n",
    "students thinks that the average cost is higher. To test the bookstore’s claim against\n",
    "their alternative, the students will select a random sample of size 100. Assume that\n",
    "the mean from their random sample is Rs. 52.80. Perform a hypothesis test at the\n",
    "5% level of significance and state your decision."
   ]
  },
  {
   "cell_type": "markdown",
   "id": "47882923",
   "metadata": {},
   "source": [
    "ANS:\n",
    "- H0:mu = 52,H1:mu>52,sd = 4.50\n",
    "- we use Z test to perform a hypothesis test"
   ]
  },
  {
   "cell_type": "code",
   "execution_count": 1,
   "id": "eaccdfeb",
   "metadata": {},
   "outputs": [
    {
     "data": {
      "text/plain": [
       "0.0377201798134007"
      ]
     },
     "execution_count": 1,
     "metadata": {},
     "output_type": "execute_result"
    }
   ],
   "source": [
    "import numpy as np\n",
    "from scipy.stats import norm\n",
    "mu0 = 52\n",
    "x_bar = 52.8\n",
    "n = 100\n",
    "sd = 4.50\n",
    "alpha = .05\n",
    "z_cal = (x_bar-mu0)/(sd/np.sqrt(n))\n",
    "pval = 1-norm.cdf(z_cal, loc=0, scale=1)\n",
    "pval"
   ]
  },
  {
   "cell_type": "code",
   "execution_count": 2,
   "id": "0ce4354f",
   "metadata": {},
   "outputs": [
    {
     "data": {
      "text/plain": [
       "True"
      ]
     },
     "execution_count": 2,
     "metadata": {},
     "output_type": "execute_result"
    }
   ],
   "source": [
    "pval <alpha\n",
    "## we reject H0"
   ]
  },
  {
   "cell_type": "code",
   "execution_count": null,
   "id": "1d29446c",
   "metadata": {},
   "outputs": [],
   "source": []
  },
  {
   "cell_type": "markdown",
   "id": "9c935f80",
   "metadata": {},
   "source": [
    "### Problem Statement 3:\n",
    "A certain chemical pollutant in the Genesee River has been constant for several\n",
    "years with mean μ = 34 ppm (parts per million) and standard deviation σ = 8 ppm. A\n",
    "group of factory representatives whose companies discharge liquids into the river is\n",
    "now claiming that they have lowered the average with improved filtration devices. A\n",
    "group of environmentalists will test to see if this is true at the 1% level of\n",
    "significance. Assume \\ that their sample of size 50 gives a mean of 32.5 ppm.\n",
    "Perform a hypothesis test at the 1% level of significance and state your decision."
   ]
  },
  {
   "cell_type": "markdown",
   "id": "2aa761a4",
   "metadata": {},
   "source": [
    "ANS:\n",
    "- H0:mu = 34,H1: mu<34, sd = 8\n",
    "- we use Z test to perform a hypothesis test"
   ]
  },
  {
   "cell_type": "code",
   "execution_count": 3,
   "id": "d0646f47",
   "metadata": {},
   "outputs": [
    {
     "data": {
      "text/plain": [
       "0.0924487994828001"
      ]
     },
     "execution_count": 3,
     "metadata": {},
     "output_type": "execute_result"
    }
   ],
   "source": [
    "mu0 = 34\n",
    "x_bar = 32.5\n",
    "n = 50\n",
    "sd = 8\n",
    "alpha = .01\n",
    "z_cal = (x_bar-mu0)/(sd/np.sqrt(n))\n",
    "pval = norm.cdf(z_cal, loc=0, scale=1)\n",
    "pval"
   ]
  },
  {
   "cell_type": "code",
   "execution_count": 4,
   "id": "cd214743",
   "metadata": {
    "scrolled": true
   },
   "outputs": [
    {
     "data": {
      "text/plain": [
       "False"
      ]
     },
     "execution_count": 4,
     "metadata": {},
     "output_type": "execute_result"
    }
   ],
   "source": [
    "pval < alpha\n",
    "## we fail to reject H0"
   ]
  },
  {
   "cell_type": "code",
   "execution_count": null,
   "id": "9a8dcb06",
   "metadata": {},
   "outputs": [],
   "source": []
  },
  {
   "cell_type": "markdown",
   "id": "1792efb6",
   "metadata": {},
   "source": [
    "### Problem Statement 4:\n",
    "Based on population figures and other general information on the U.S. population,\n",
    "suppose it has been estimated that, on average, a family of four in the U.S. spends\n",
    "about $1135 annually on dental expenditures. Suppose further that a regional dental\n",
    "association wants to test to determine if this figure is accurate for their area of\n",
    "country. To test this, 22 families of 4 are randomly selected from the population in\n",
    "that area of the country and a log is kept of the family’s dental expenditure for one\n",
    "year. The resulting data are given below. Assuming, that dental expenditure is\n",
    "normally distributed in the population, use the data and an alpha of 0.5 to test the\n",
    "dental association’s hypothesis.\n",
    "1008, 812, 1117, 1323, 1308, 1415, 831, 1021, 1287, 851, 930, 730, 699,\n",
    "872, 913, 944, 954, 987, 1695, 995, 1003, 994"
   ]
  },
  {
   "cell_type": "markdown",
   "id": "94ab75c5",
   "metadata": {},
   "source": [
    "ANS:\n",
    "- H0: mu = 1135 , H0: mu != 1135 , unknown sd\n",
    "- we use T test to perform a hypothesis test"
   ]
  },
  {
   "cell_type": "code",
   "execution_count": 5,
   "id": "0fb74261",
   "metadata": {},
   "outputs": [
    {
     "data": {
      "text/plain": [
       "1031.3181818181818"
      ]
     },
     "execution_count": 5,
     "metadata": {},
     "output_type": "execute_result"
    }
   ],
   "source": [
    "data = np.array([1008, 812, 1117, 1323, 1308, 1415, 831, 1021, 1287, 851, 930, 730, 699, 872, 913, 944, 954, 987, 1695, 995, 1003, 994])\n",
    "data.mean()"
   ]
  },
  {
   "cell_type": "code",
   "execution_count": 6,
   "id": "890c2eb6",
   "metadata": {},
   "outputs": [
    {
     "data": {
      "text/plain": [
       "(-2.023137479931484, 0.0559738319464585)"
      ]
     },
     "execution_count": 6,
     "metadata": {},
     "output_type": "execute_result"
    }
   ],
   "source": [
    "from scipy.stats import t\n",
    "mu0 = 1135 \n",
    "x_bar = data.mean()\n",
    "## n = 22\n",
    "n = len(data)\n",
    "sample_sd = np.std(data,ddof = 1)\n",
    "df = n-1\n",
    "alpha = .05\n",
    "t_cal = (x_bar-mu0)/(sample_sd/np.sqrt(n))\n",
    "pval = t.cdf(t_cal,df, loc=0, scale=1)*2\n",
    "t_cal,pval"
   ]
  },
  {
   "cell_type": "code",
   "execution_count": 7,
   "id": "d8932bef",
   "metadata": {},
   "outputs": [
    {
     "data": {
      "text/plain": [
       "False"
      ]
     },
     "execution_count": 7,
     "metadata": {},
     "output_type": "execute_result"
    }
   ],
   "source": [
    "pval<alpha\n",
    "## we fail to reject H0"
   ]
  },
  {
   "cell_type": "code",
   "execution_count": null,
   "id": "d886ef7f",
   "metadata": {},
   "outputs": [],
   "source": []
  },
  {
   "cell_type": "markdown",
   "id": "cc4aed7d",
   "metadata": {},
   "source": [
    "### Problem Statement 5:\n",
    "\n",
    "In a report prepared by the Economic Research Department of a major bank the\n",
    "Department manager maintains that the average annual family income on Metropolis\n",
    "is 48,432. What do you conclude about the validity of the report if a random sample\n",
    "of 400 families shows and average income of 48,574 with a standard deviation of\n",
    "2000?"
   ]
  },
  {
   "cell_type": "markdown",
   "id": "a9575d82",
   "metadata": {},
   "source": [
    "ANS:\n",
    "- H0:mu = 48432 ,H1: mu != 48432, unknown sd with large sample size\n",
    "- we use Z test to perform a hypothesis test"
   ]
  },
  {
   "cell_type": "code",
   "execution_count": 8,
   "id": "ad755d80",
   "metadata": {},
   "outputs": [
    {
     "data": {
      "text/plain": [
       "(1.42, 1.8443923189469071)"
      ]
     },
     "execution_count": 8,
     "metadata": {},
     "output_type": "execute_result"
    }
   ],
   "source": [
    "mu0 = 48432 \n",
    "x_bar = 48574\n",
    "n = 400\n",
    "sample_sd = 2000\n",
    "alpha = .1\n",
    "z_cal = (x_bar-mu0)/(sample_sd/np.sqrt(n))\n",
    "pval = norm.cdf(z_cal, loc=0, scale=1)*2\n",
    "z_cal,pval"
   ]
  },
  {
   "cell_type": "code",
   "execution_count": 9,
   "id": "5958ffc2",
   "metadata": {},
   "outputs": [
    {
     "data": {
      "text/plain": [
       "False"
      ]
     },
     "execution_count": 9,
     "metadata": {},
     "output_type": "execute_result"
    }
   ],
   "source": [
    "## if alpha = .1 , we fail to reject H0\n",
    "pval<alpha"
   ]
  },
  {
   "cell_type": "code",
   "execution_count": null,
   "id": "dda9bf14",
   "metadata": {},
   "outputs": [],
   "source": []
  },
  {
   "cell_type": "markdown",
   "id": "6f48fc86",
   "metadata": {},
   "source": [
    "### Problem Statement 6:\n",
    "\n",
    "Suppose that in past years the average price per square foot for warehouses in the\n",
    "United States has been 32.28. A national real estate investor wants to determine\n",
    "whether that figure has changed now. The investor hires a researcher who randomly\n",
    "samples 19 warehouses that are for sale across the United States and finds that the\n",
    "mean price per square foot is 31.67, with a standard deviation of 1.29. assume\n",
    "that the prices of warehouse footage are normally distributed in population. If the\n",
    "researcher uses a 5 % level of significance, what statistical conclusion can be\n",
    "reached? What are the hypotheses?"
   ]
  },
  {
   "cell_type": "markdown",
   "id": "936c0bb4",
   "metadata": {},
   "source": [
    "ANS:\n",
    "- H0:mu = 32.28 ,H1:mu != 32.28, unknown sd\n",
    "- we use T test to perform a hypothesis test"
   ]
  },
  {
   "cell_type": "code",
   "execution_count": 10,
   "id": "fd617b51",
   "metadata": {},
   "outputs": [
    {
     "data": {
      "text/plain": [
       "(-2.06118477175179, 0.0540335291599721)"
      ]
     },
     "execution_count": 10,
     "metadata": {},
     "output_type": "execute_result"
    }
   ],
   "source": [
    "mu0 = 32.28\n",
    "x_bar = 31.67\n",
    "n = 19\n",
    "sample_sd = 1.29\n",
    "df = n-1\n",
    "alpha = .05\n",
    "t_cal = (x_bar-mu0)/(sample_sd/np.sqrt(n))\n",
    "pval = t.cdf(t_cal,df, loc=0, scale=1)*2\n",
    "t_cal,pval"
   ]
  },
  {
   "cell_type": "code",
   "execution_count": 11,
   "id": "b0f9d02b",
   "metadata": {},
   "outputs": [
    {
     "data": {
      "text/plain": [
       "False"
      ]
     },
     "execution_count": 11,
     "metadata": {},
     "output_type": "execute_result"
    }
   ],
   "source": [
    "pval<alpha\n",
    "## we fail to reject H0"
   ]
  },
  {
   "cell_type": "code",
   "execution_count": null,
   "id": "7fb002a6",
   "metadata": {},
   "outputs": [],
   "source": []
  },
  {
   "attachments": {
    "image.png": {
     "image/png": "[encoded data removed]"
    }
   },
   "cell_type": "markdown",
   "id": "e29df3e6",
   "metadata": {},
   "source": [
    "### Problem Statement 7:\n",
    "Fill in the blank spaces in the table and draw your conclusions from it.\n",
    "![image.png](attachment:image.png)"
   ]
  },
  {
   "cell_type": "markdown",
   "id": "3f4ecb65",
   "metadata": {},
   "source": [
    "ANS:\n",
    "- alpha = P(X_bar in rejection region given H0 true)\n",
    "- beta1 = P(X_bar in acceptance region given mu = 52)\n",
    "- beta2 = P(X_bar in acceptance region given mu = 50.5)\n",
    "- X_bar~N(mu,sd^2/n)"
   ]
  },
  {
   "cell_type": "markdown",
   "id": "57ea5794",
   "metadata": {},
   "source": [
    "### Problem Statement 8:\n",
    "Find the t-score for a sample size of 16 taken from a population with mean 10 when\n",
    "the sample mean is 12 and the sample standard deviation is 1.5."
   ]
  },
  {
   "cell_type": "code",
   "execution_count": 12,
   "id": "235fa2f2",
   "metadata": {},
   "outputs": [
    {
     "data": {
      "text/plain": [
       "5.333333333333333"
      ]
     },
     "execution_count": 12,
     "metadata": {},
     "output_type": "execute_result"
    }
   ],
   "source": [
    "mu0 = 10\n",
    "x_bar = 12\n",
    "n = 16\n",
    "sample_sd = 1.5\n",
    "df = n-1\n",
    "t_cal = (x_bar-mu0)/(sample_sd/np.sqrt(n))\n",
    "t_cal"
   ]
  },
  {
   "cell_type": "markdown",
   "id": "0527532d",
   "metadata": {},
   "source": [
    "### Problem Statement 9:\n",
    "Find the t-score below which we can expect 99% of sample means will fall if samples\n",
    "of size 16 are taken from a normally distributed population."
   ]
  },
  {
   "cell_type": "code",
   "execution_count": 13,
   "id": "2e0eca20",
   "metadata": {},
   "outputs": [
    {
     "data": {
      "text/plain": [
       "2.602480294995493"
      ]
     },
     "execution_count": 13,
     "metadata": {},
     "output_type": "execute_result"
    }
   ],
   "source": [
    "n = 16\n",
    "df = n-1\n",
    "t.ppf(.99,df, loc=0, scale=1)\n",
    "## for 99% of sample,their corresponding t score below 2.60248.\n",
    "## P(T<2.60248) = .99"
   ]
  },
  {
   "cell_type": "markdown",
   "id": "d8627c4c",
   "metadata": {},
   "source": [
    "### Problem Statement 10:\n",
    "If a random sample of size 25 drawn from a normal population gives a mean of 60\n",
    "and a standard deviation of 4, find the range of t-scores where we can expect to find\n",
    "the middle 95% of all sample means. Compute the probability that (−t0.05 <t<t0.10)."
   ]
  },
  {
   "cell_type": "code",
   "execution_count": 14,
   "id": "d79f1e60",
   "metadata": {},
   "outputs": [
    {
     "data": {
      "text/plain": [
       "2.0638985616280205"
      ]
     },
     "execution_count": 14,
     "metadata": {},
     "output_type": "execute_result"
    }
   ],
   "source": [
    "## P(-t<T<t) = .95\n",
    "n = 25\n",
    "df = n-1\n",
    "alpha = 1-.95\n",
    "t.ppf(.95+alpha/2,df, loc=0, scale=1)\n",
    "## P(-2.064<T<2.064) = .95"
   ]
  },
  {
   "cell_type": "code",
   "execution_count": 15,
   "id": "1e1de612",
   "metadata": {},
   "outputs": [
    {
     "data": {
      "text/plain": [
       "0.05914441613731247"
      ]
     },
     "execution_count": 15,
     "metadata": {},
     "output_type": "execute_result"
    }
   ],
   "source": [
    "## P(-0.05<T<0.10)\n",
    "t.cdf(0.10,df, loc=0, scale=1) - t.cdf(-0.05,df, loc=0, scale=1)"
   ]
  },
  {
   "cell_type": "markdown",
   "id": "62aaff01",
   "metadata": {},
   "source": [
    "### Problem Statement 11:\n",
    "Two-tailed test for difference between two population means\n",
    "Is there evidence to conclude that the number of people travelling from Bangalore to\n",
    "Chennai is different from the number of people travelling from Bangalore to Hosur in\n",
    "a week, given the following:\n",
    "Population 1: Bangalore to Chennai n1 = 1200\n",
    "x1 = 452\n",
    "s1 = 212\n",
    "Population 2: Bangalore to Hosur n2 = 800\n",
    "x2 = 523\n",
    "s2 = 185"
   ]
  },
  {
   "cell_type": "markdown",
   "id": "0f30be13",
   "metadata": {},
   "source": [
    "ANS:\n",
    "- H0:mu1 - mu2 = 0 ,H1:mu1 - mu2 != 0, unknown sd with large sample size\n",
    "- we use two sample z test to perform a hypothesis test"
   ]
  },
  {
   "cell_type": "code",
   "execution_count": 16,
   "id": "0c074453",
   "metadata": {},
   "outputs": [
    {
     "data": {
      "text/plain": [
       "(2.2553835335706493e-15, -7.926428526759299)"
      ]
     },
     "execution_count": 16,
     "metadata": {},
     "output_type": "execute_result"
    }
   ],
   "source": [
    "mu0 = 0\n",
    "x_bar = 452 - 523\n",
    "n1 = 1200\n",
    "n2 = 800\n",
    "sd1 = 212\n",
    "sd2 = 185\n",
    "## assume alpha = 5% \n",
    "alpha = .05\n",
    "z_cal = (x_bar-mu0)/np.sqrt((sd1**2/n1)+(sd2**2/n2))\n",
    "pval = norm.cdf(z_cal, loc=0, scale=1)*2\n",
    "pval,z_cal"
   ]
  },
  {
   "cell_type": "code",
   "execution_count": 17,
   "id": "36a1890c",
   "metadata": {},
   "outputs": [
    {
     "data": {
      "text/plain": [
       "True"
      ]
     },
     "execution_count": 17,
     "metadata": {},
     "output_type": "execute_result"
    }
   ],
   "source": [
    "pval<alpha\n",
    "## we reject H0"
   ]
  },
  {
   "cell_type": "code",
   "execution_count": null,
   "id": "846f2c0c",
   "metadata": {},
   "outputs": [],
   "source": []
  },
  {
   "cell_type": "markdown",
   "id": "2206c4ae",
   "metadata": {},
   "source": [
    "### Problem Statement 12:\n",
    "Is there evidence to conclude that the number of people preferring Duracell battery is\n",
    "different from the number of people preferring Energizer battery, given the following:\n",
    "Population 1: Duracell\n",
    "n1 = 100\n",
    "x1 = 308\n",
    "s1 = 84\n",
    "Population 2: Energizer\n",
    "n2 = 100\n",
    "x2 = 254\n",
    "s2 = 67"
   ]
  },
  {
   "cell_type": "markdown",
   "id": "b77b0747",
   "metadata": {},
   "source": [
    "ANS:\n",
    "- H0:mu1 - mu2 = 0 ,H1:mu1 - mu2 != 0, unknown sd with large sample size\n",
    "- we use two sample z test to perform a hypothesis test"
   ]
  },
  {
   "cell_type": "code",
   "execution_count": 18,
   "id": "5f24c575",
   "metadata": {},
   "outputs": [
    {
     "data": {
      "text/plain": [
       "(5.015925257367826e-07, 5.025702668336442)"
      ]
     },
     "execution_count": 18,
     "metadata": {},
     "output_type": "execute_result"
    }
   ],
   "source": [
    "mu0 = 0\n",
    "x_bar =  308 - 254\n",
    "n1 = 100\n",
    "n2 = 100\n",
    "sd1 = 84\n",
    "sd2 = 67\n",
    "## assume alpha = 5% \n",
    "alpha = .05\n",
    "z_cal = (x_bar-mu0)/np.sqrt((sd1**2/n1)+(sd2**2/n2))\n",
    "pval = (1-norm.cdf(z_cal, loc=0, scale=1))*2\n",
    "pval,z_cal"
   ]
  },
  {
   "cell_type": "code",
   "execution_count": 19,
   "id": "c47cff1a",
   "metadata": {},
   "outputs": [
    {
     "data": {
      "text/plain": [
       "True"
      ]
     },
     "execution_count": 19,
     "metadata": {},
     "output_type": "execute_result"
    }
   ],
   "source": [
    "pval<alpha\n",
    "## we reject H0"
   ]
  },
  {
   "cell_type": "markdown",
   "id": "9ec0fbca",
   "metadata": {},
   "source": [
    "### Problem Statement 13:\n",
    "Pooled estimate of the population variance\n",
    "Does the data provide sufficient evidence to conclude that average percentage\n",
    "increase in the price of sugar differs when it is sold at two different prices?\n",
    "Population 1: Price of sugar = Rs. 27.50 n1 = 14\n",
    "x1 = 0.317%\n",
    "s1 = 0.12%\n",
    "Population 2: Price of sugar = Rs. 20.00 n2 = 9\n",
    "x2 = 0.21%\n",
    "s2 = 0.11%"
   ]
  },
  {
   "cell_type": "markdown",
   "id": "aad21209",
   "metadata": {},
   "source": [
    "ANS:\n",
    "- H0:mu1 - mu2 = 0 ,H1:mu1 - mu2 != 0, unknown sd , assume same population variance on diff groups \n",
    "- we use two sample t test to perform a hypothesis test"
   ]
  },
  {
   "cell_type": "code",
   "execution_count": 20,
   "id": "73c42358",
   "metadata": {},
   "outputs": [
    {
     "data": {
      "text/plain": [
       "(0.3679705252633054, 0.9200983566529685)"
      ]
     },
     "execution_count": 20,
     "metadata": {},
     "output_type": "execute_result"
    }
   ],
   "source": [
    "mu0 = 0\n",
    "x_bar =  0.317 - 0.21\n",
    "n1 = 14\n",
    "n2 = 9\n",
    "sd1 = 0.12\n",
    "sd2 = 0.11\n",
    "## assume alpha = 5% \n",
    "alpha = .05\n",
    "df = n1+n2 -2\n",
    "t_cal = (x_bar-mu0)/np.sqrt(((n1-1)*sd1**2+(n2-1)*sd2**2)/df)\n",
    "pval = (1-t.cdf(t_cal,df, loc=0, scale=1))*2\n",
    "pval,t_cal"
   ]
  },
  {
   "cell_type": "code",
   "execution_count": 21,
   "id": "69f6fcad",
   "metadata": {},
   "outputs": [
    {
     "data": {
      "text/plain": [
       "False"
      ]
     },
     "execution_count": 21,
     "metadata": {},
     "output_type": "execute_result"
    }
   ],
   "source": [
    "pval<alpha\n",
    "## fail to reject H0"
   ]
  },
  {
   "cell_type": "markdown",
   "id": "ead44416",
   "metadata": {},
   "source": [
    "### Problem Statement 14:\n",
    "The manufacturers of compact disk players want to test whether a small price\n",
    "reduction is enough to increase sales of their product. Is there evidence that the\n",
    "small price reduction is enough to increase sales of compact disk players?\n",
    "Population 1: Before reduction\n",
    "n1 = 15\n",
    "x1 = Rs. 6598 s1 = Rs. 844\n",
    "Population 2: After reduction n2 = 12\n",
    "x2 = RS. 6870\n",
    "s2 = Rs. 669"
   ]
  },
  {
   "cell_type": "markdown",
   "id": "7e1d7eca",
   "metadata": {},
   "source": [
    "ANS:\n",
    "- H0:mu1 - mu2 = 0 ,H1:mu1 - mu2 != 0, unknown sd \n",
    "- assume same population variance on diff groups, groups are not related\n",
    "- we use t test to perform a hypothesis test"
   ]
  },
  {
   "cell_type": "code",
   "execution_count": 22,
   "id": "85f2fddd",
   "metadata": {},
   "outputs": [
    {
     "data": {
      "text/plain": [
       "(0.3716010051185178, -0.9098300343990459)"
      ]
     },
     "execution_count": 22,
     "metadata": {},
     "output_type": "execute_result"
    }
   ],
   "source": [
    "mu0 = 0\n",
    "x_bar =  6598 - 6870\n",
    "n1 = 15\n",
    "n2 = 12\n",
    "sd1 = 844\n",
    "sd2 = 669\n",
    "## assume alpha = 5% \n",
    "alpha = .05\n",
    "df = n1+n2 -2\n",
    "pooled_sd = np.sqrt(((n1-1)*sd1**2+(n2-1)*sd2**2)/df)\n",
    "SE = pooled_sd*np.sqrt(1/n1+1/n2)\n",
    "t_cal = (x_bar-mu0)/SE\n",
    "pval = t.cdf(t_cal,df, loc=0, scale=1)*2\n",
    "pval,t_cal"
   ]
  },
  {
   "cell_type": "code",
   "execution_count": 23,
   "id": "edb2bc1b",
   "metadata": {},
   "outputs": [
    {
     "data": {
      "text/plain": [
       "False"
      ]
     },
     "execution_count": 23,
     "metadata": {},
     "output_type": "execute_result"
    }
   ],
   "source": [
    "pval<alpha\n",
    "## fail to reject H0"
   ]
  },
  {
   "cell_type": "markdown",
   "id": "c7ca2109",
   "metadata": {},
   "source": [
    "### Problem Statement 15:\n",
    "Comparisons of two population proportions when the hypothesized difference is zero\n",
    "Carry out a two-tailed test of the equality of banks’ share of the car loan market in\n",
    "1980 and 1995.\n",
    "Population 1: 1980\n",
    "n1 = 1000\n",
    "x1 = 53\n",
    "p 1 = 0.53\n",
    "Population 2: 1985\n",
    "n2 = 100\n",
    "x2 = 43\n",
    "p 2= 0.53"
   ]
  },
  {
   "cell_type": "markdown",
   "id": "aa95068d",
   "metadata": {},
   "source": [
    "ANS:\n",
    "- H0:p1 - p2 = 0 ,H1:p1 - p2 != 0\n",
    "- we use z test to perform a hypothesis test"
   ]
  },
  {
   "cell_type": "code",
   "execution_count": 24,
   "id": "32fdf44b",
   "metadata": {},
   "outputs": [
    {
     "data": {
      "text/plain": [
       "(4.7648583006246005e-14, -7.538204613466147)"
      ]
     },
     "execution_count": 24,
     "metadata": {},
     "output_type": "execute_result"
    }
   ],
   "source": [
    "n1,n2 = 1000,100\n",
    "x1,x2 = 53,43\n",
    "p1_hat = x1/n1\n",
    "p2_hat = x2/n2\n",
    "p_diff0 = 0\n",
    "p_diff_hat =  p1_hat - p2_hat\n",
    "\n",
    "standard_err = np.sqrt(p1_hat*(1-p1_hat)/n1+p2_hat*(1-p2_hat)/n2)\n",
    "## assume alpha = 5% \n",
    "alpha = .05\n",
    "z_cal = (p_diff_hat-p_diff0)/standard_err\n",
    "pval = norm.cdf(z_cal, loc=0, scale=1)*2\n",
    "pval,z_cal"
   ]
  },
  {
   "cell_type": "code",
   "execution_count": 25,
   "id": "689ce089",
   "metadata": {},
   "outputs": [
    {
     "data": {
      "text/plain": [
       "True"
      ]
     },
     "execution_count": 25,
     "metadata": {},
     "output_type": "execute_result"
    }
   ],
   "source": [
    "pval<alpha\n",
    "## reject H0"
   ]
  },
  {
   "cell_type": "code",
   "execution_count": null,
   "id": "3d72db45",
   "metadata": {},
   "outputs": [],
   "source": []
  },
  {
   "cell_type": "markdown",
   "id": "ed5156c0",
   "metadata": {},
   "source": [
    "### Problem Statement 16:\n",
    "Carry out a one-tailed test to determine whether the population proportion of\n",
    "traveler’s check buyers who buy at least $2500 in checks when sweepstakes prizes\n",
    "are offered as at least 10% higher than the proportion of such buyers when no\n",
    "sweepstakes are on.\n",
    "Population 1: With sweepstakes\n",
    "n1 = 300\n",
    "x1 = 120\n",
    "p = 0.40\n",
    "Population 2: No sweepstakes n2 = 700\n",
    "x2 = 140\n",
    "p 2= 0.20"
   ]
  },
  {
   "cell_type": "markdown",
   "id": "15a8561d",
   "metadata": {},
   "source": [
    "ANS:\n",
    "- H0:p1 - p2 >= 0.1, H1:p1 - p2 < 0.1\n",
    "- we use z test to perform a hypothesis test"
   ]
  },
  {
   "cell_type": "code",
   "execution_count": 26,
   "id": "a53d300d",
   "metadata": {},
   "outputs": [
    {
     "data": {
      "text/plain": [
       "(0.0009102663046626214, 3.1180478223116177)"
      ]
     },
     "execution_count": 26,
     "metadata": {},
     "output_type": "execute_result"
    }
   ],
   "source": [
    "n1,n2 = 300,700\n",
    "x1,x2 = 120,140\n",
    "p1_hat = x1/n1\n",
    "p2_hat = x2/n2\n",
    "p_diff0 = 0.1\n",
    "p_diff_hat =  p1_hat - p2_hat\n",
    "\n",
    "standard_err = np.sqrt(p1_hat*(1-p1_hat)/n1+p2_hat*(1-p2_hat)/n2)\n",
    "## assume alpha = 5% \n",
    "alpha = .05\n",
    "z_cal = (p_diff_hat-p_diff0)/standard_err\n",
    "pval = (1-norm.cdf(z_cal, loc=0, scale=1))\n",
    "pval,z_cal"
   ]
  },
  {
   "cell_type": "code",
   "execution_count": 27,
   "id": "c0e08dd3",
   "metadata": {},
   "outputs": [
    {
     "data": {
      "text/plain": [
       "True"
      ]
     },
     "execution_count": 27,
     "metadata": {},
     "output_type": "execute_result"
    }
   ],
   "source": [
    "pval<alpha\n",
    "## reject H0"
   ]
  },
  {
   "cell_type": "code",
   "execution_count": null,
   "id": "0627c167",
   "metadata": {},
   "outputs": [],
   "source": []
  },
  {
   "cell_type": "markdown",
   "id": "db169ef9",
   "metadata": {},
   "source": [
    "### Problem Statement 17:\n",
    "A die is thrown 132 times with the following results: Number turned up: 1, 2, 3, 4, 5, 6\n",
    "Frequency: 16, 20, 25, 14, 29, 28\n",
    "Is the die unbiased? Consider the degrees of freedom as p − ."
   ]
  },
  {
   "cell_type": "markdown",
   "id": "66177cff",
   "metadata": {},
   "source": [
    "ANS:\n",
    "- H0: result follow uniform distribution , H1:result not follow uniform distribution\n",
    "- we use chi square test to test the goodness of fit - whether the result distributed uniformly"
   ]
  },
  {
   "cell_type": "code",
   "execution_count": 28,
   "id": "70942f47",
   "metadata": {},
   "outputs": [
    {
     "data": {
      "text/plain": [
       "0.10906415794977253"
      ]
     },
     "execution_count": 28,
     "metadata": {},
     "output_type": "execute_result"
    }
   ],
   "source": [
    "from scipy.stats import chi2\n",
    "obs = [16, 20, 25, 14, 29, 28]\n",
    "exp =[22, 22, 22, 22, 22, 22]\n",
    "df = 6-1\n",
    "chi_sqr_cal = 0\n",
    "for o,e in zip(obs,exp):\n",
    "    chi_sqr_cal +=  (o-e)**2/e\n",
    "## assume alpha = 5% \n",
    "alpha = .05\n",
    "pval = 1-chi2.cdf(chi_sqr_cal, df, loc=0, scale=1)\n",
    "pval"
   ]
  },
  {
   "cell_type": "code",
   "execution_count": 29,
   "id": "922bc15b",
   "metadata": {},
   "outputs": [
    {
     "data": {
      "text/plain": [
       "False"
      ]
     },
     "execution_count": 29,
     "metadata": {},
     "output_type": "execute_result"
    }
   ],
   "source": [
    "pval<alpha\n",
    "## fail to reject H0"
   ]
  },
  {
   "attachments": {
    "image.png": {
     "image/png": "[encoded data removed]"
    }
   },
   "cell_type": "markdown",
   "id": "60eee99f",
   "metadata": {},
   "source": [
    "### Problem Statement 18:\n",
    "In a certain town, there are about one million eligible voters. A simple random\n",
    "sample of 10,000 eligible voters was chosen to study the relationship between\n",
    "gender and participation in the last election. The results are summarized in the\n",
    "following 2X2 (read two by two) contingency table:\n",
    "\n",
    "![image.png](attachment:image.png)\n",
    "\n",
    "We would want to check whether being a man or a woman (columns) is independent of\n",
    "having voted in the last election (rows). In other words, is “gender and voting independent”?"
   ]
  },
  {
   "cell_type": "markdown",
   "id": "1338a85e",
   "metadata": {},
   "source": [
    "ANS:\n",
    "- H0:two rv independent, H1: two rv correlated"
   ]
  },
  {
   "cell_type": "code",
   "execution_count": 30,
   "id": "dab10861",
   "metadata": {},
   "outputs": [
    {
     "data": {
      "text/html": [
       "<div>\n",
       "<style scoped>\n",
       "    .dataframe tbody tr th:only-of-type {\n",
       "        vertical-align: middle;\n",
       "    }\n",
       "\n",
       "    .dataframe tbody tr th {\n",
       "        vertical-align: top;\n",
       "    }\n",
       "\n",
       "    .dataframe thead th {\n",
       "        text-align: right;\n",
       "    }\n",
       "</style>\n",
       "<table border=\"1\" class=\"dataframe\">\n",
       "  <thead>\n",
       "    <tr style=\"text-align: right;\">\n",
       "      <th></th>\n",
       "      <th>men</th>\n",
       "      <th>women</th>\n",
       "    </tr>\n",
       "  </thead>\n",
       "  <tbody>\n",
       "    <tr>\n",
       "      <th>0</th>\n",
       "      <td>1486</td>\n",
       "      <td>2131</td>\n",
       "    </tr>\n",
       "    <tr>\n",
       "      <th>1</th>\n",
       "      <td>2792</td>\n",
       "      <td>3591</td>\n",
       "    </tr>\n",
       "  </tbody>\n",
       "</table>\n",
       "</div>"
      ],
      "text/plain": [
       "    men  women\n",
       "0  1486   2131\n",
       "1  2792   3591"
      ]
     },
     "execution_count": 30,
     "metadata": {},
     "output_type": "execute_result"
    }
   ],
   "source": [
    "import pandas as pd\n",
    "obs = pd.DataFrame({\"men\":[1486,2792],'women':[2131,3591]})\n",
    "## 0 : not voted,1:voted\n",
    "colSum = obs.sum(axis=0)\n",
    "rowSum = obs.sum(axis=1)\n",
    "total = sum(colSum)\n",
    "obs"
   ]
  },
  {
   "cell_type": "code",
   "execution_count": 31,
   "id": "5c2bbf8b",
   "metadata": {},
   "outputs": [
    {
     "data": {
      "text/html": [
       "<div>\n",
       "<style scoped>\n",
       "    .dataframe tbody tr th:only-of-type {\n",
       "        vertical-align: middle;\n",
       "    }\n",
       "\n",
       "    .dataframe tbody tr th {\n",
       "        vertical-align: top;\n",
       "    }\n",
       "\n",
       "    .dataframe thead th {\n",
       "        text-align: right;\n",
       "    }\n",
       "</style>\n",
       "<table border=\"1\" class=\"dataframe\">\n",
       "  <thead>\n",
       "    <tr style=\"text-align: right;\">\n",
       "      <th></th>\n",
       "      <th>men</th>\n",
       "      <th>women</th>\n",
       "    </tr>\n",
       "  </thead>\n",
       "  <tbody>\n",
       "    <tr>\n",
       "      <th>0</th>\n",
       "      <td>1547.3526</td>\n",
       "      <td>2069.6474</td>\n",
       "    </tr>\n",
       "    <tr>\n",
       "      <th>1</th>\n",
       "      <td>2730.6474</td>\n",
       "      <td>3652.3526</td>\n",
       "    </tr>\n",
       "  </tbody>\n",
       "</table>\n",
       "</div>"
      ],
      "text/plain": [
       "         men      women\n",
       "0  1547.3526  2069.6474\n",
       "1  2730.6474  3652.3526"
      ]
     },
     "execution_count": 31,
     "metadata": {},
     "output_type": "execute_result"
    }
   ],
   "source": [
    "exp = pd.DataFrame()\n",
    "for i,colName in zip(colSum,obs.columns):\n",
    "    exp[colName] = [i*j/total for j in rowSum]\n",
    "exp       "
   ]
  },
  {
   "cell_type": "code",
   "execution_count": 32,
   "id": "e9aae2c2",
   "metadata": {},
   "outputs": [
    {
     "data": {
      "text/plain": [
       "0.009857569318958315"
      ]
     },
     "execution_count": 32,
     "metadata": {},
     "output_type": "execute_result"
    }
   ],
   "source": [
    "chi2_cal = 0\n",
    "df = (len(obs.columns)-1)*(len(obs.index)-1)\n",
    "for lst1, lst2 in zip(obs.values,exp.values):\n",
    "    for o,e in zip(lst1, lst2):\n",
    "        chi2_cal += (o-e)**2/e\n",
    "## assume alpha = 5% \n",
    "alpha = .05\n",
    "pval = 1-chi2.cdf(chi2_cal, df, loc=0, scale=1)\n",
    "pval"
   ]
  },
  {
   "cell_type": "code",
   "execution_count": 33,
   "id": "1234853a",
   "metadata": {},
   "outputs": [
    {
     "data": {
      "text/plain": [
       "True"
      ]
     },
     "execution_count": 33,
     "metadata": {},
     "output_type": "execute_result"
    }
   ],
   "source": [
    "pval<alpha\n",
    "## reject H0"
   ]
  },
  {
   "attachments": {
    "image.png": {
     "image/png": "[encoded data removed]"
    }
   },
   "cell_type": "markdown",
   "id": "6f32222f",
   "metadata": {},
   "source": [
    "### Problem Statement 19:\n",
    "A sample of 100 voters are asked which of four candidates they would vote for in an\n",
    "election. The number supporting each candidate is given below:\n",
    "\n",
    "![image.png](attachment:image.png)\n",
    "\n",
    "Do the data suggest that all candidates are equally popular? [Chi-Square = 14.96,\n",
    "with 3 df, p 0.05 ."
   ]
  },
  {
   "cell_type": "markdown",
   "id": "24b13ad0",
   "metadata": {},
   "source": [
    "ANS:\n",
    "- H0:all candidates are equally popular, H1:all candidates are not  equally popular"
   ]
  },
  {
   "cell_type": "code",
   "execution_count": 34,
   "id": "e258a27c",
   "metadata": {},
   "outputs": [
    {
     "data": {
      "text/plain": [
       "0.001851152735284245"
      ]
     },
     "execution_count": 34,
     "metadata": {},
     "output_type": "execute_result"
    }
   ],
   "source": [
    "obs = [41, 19, 24, 16]\n",
    "exp =[25, 25, 25, 25]\n",
    "df = 4-1\n",
    "chi_sqr_cal = 0\n",
    "for o,e in zip(obs,exp):\n",
    "    chi_sqr_cal +=  (o-e)**2/e\n",
    "alpha = .05\n",
    "pval = 1-chi2.cdf(chi_sqr_cal, df, loc=0, scale=1)\n",
    "pval"
   ]
  },
  {
   "cell_type": "code",
   "execution_count": 35,
   "id": "b00ed499",
   "metadata": {},
   "outputs": [
    {
     "data": {
      "text/plain": [
       "True"
      ]
     },
     "execution_count": 35,
     "metadata": {},
     "output_type": "execute_result"
    }
   ],
   "source": [
    "pval<alpha\n",
    "## reject H0"
   ]
  },
  {
   "cell_type": "code",
   "execution_count": null,
   "id": "e1310fd3",
   "metadata": {},
   "outputs": [],
   "source": []
  },
  {
   "cell_type": "code",
   "execution_count": null,
   "id": "bdb2bc50",
   "metadata": {},
   "outputs": [],
   "source": []
  },
  {
   "attachments": {
    "image.png": {
     "image/png": "[encoded data removed]"
    }
   },
   "cell_type": "markdown",
   "id": "1150e0a6",
   "metadata": {},
   "source": [
    "### Problem Statement 20:\n",
    "Children of three ages are asked to indicate their preference for three photographs of\n",
    "adults. Do the data suggest that there is a significant relationship between age and\n",
    "photograph preference? What is wrong with this study? [Chi-Square = 29.6, with 4\n",
    "df: p < 0.05].\n",
    "\n",
    "![image.png](attachment:image.png)"
   ]
  },
  {
   "cell_type": "markdown",
   "id": "bae96581",
   "metadata": {},
   "source": [
    "- H0:two rv independent, H1: two rv correlated"
   ]
  },
  {
   "cell_type": "code",
   "execution_count": 36,
   "id": "218a26af",
   "metadata": {},
   "outputs": [
    {
     "data": {
      "text/html": [
       "<div>\n",
       "<style scoped>\n",
       "    .dataframe tbody tr th:only-of-type {\n",
       "        vertical-align: middle;\n",
       "    }\n",
       "\n",
       "    .dataframe tbody tr th {\n",
       "        vertical-align: top;\n",
       "    }\n",
       "\n",
       "    .dataframe thead th {\n",
       "        text-align: right;\n",
       "    }\n",
       "</style>\n",
       "<table border=\"1\" class=\"dataframe\">\n",
       "  <thead>\n",
       "    <tr style=\"text-align: right;\">\n",
       "      <th></th>\n",
       "      <th>A</th>\n",
       "      <th>B</th>\n",
       "      <th>C</th>\n",
       "    </tr>\n",
       "  </thead>\n",
       "  <tbody>\n",
       "    <tr>\n",
       "      <th>0</th>\n",
       "      <td>18</td>\n",
       "      <td>22</td>\n",
       "      <td>20</td>\n",
       "    </tr>\n",
       "    <tr>\n",
       "      <th>1</th>\n",
       "      <td>2</td>\n",
       "      <td>28</td>\n",
       "      <td>40</td>\n",
       "    </tr>\n",
       "    <tr>\n",
       "      <th>2</th>\n",
       "      <td>20</td>\n",
       "      <td>10</td>\n",
       "      <td>40</td>\n",
       "    </tr>\n",
       "  </tbody>\n",
       "</table>\n",
       "</div>"
      ],
      "text/plain": [
       "    A   B   C\n",
       "0  18  22  20\n",
       "1   2  28  40\n",
       "2  20  10  40"
      ]
     },
     "execution_count": 36,
     "metadata": {},
     "output_type": "execute_result"
    }
   ],
   "source": [
    "obs = pd.DataFrame({\"A\":[18,2,20],'B':[22,28,10],\"C\":[20,40,40]})\n",
    "## 0 : 5-6 Yrs,1:7-8 Yrs,2:9-10 Yrs\n",
    "colSum = obs.sum(axis=0)\n",
    "rowSum = obs.sum(axis=1)\n",
    "total = sum(colSum)\n",
    "obs"
   ]
  },
  {
   "cell_type": "code",
   "execution_count": 37,
   "id": "cdc7fabd",
   "metadata": {},
   "outputs": [
    {
     "data": {
      "text/html": [
       "<div>\n",
       "<style scoped>\n",
       "    .dataframe tbody tr th:only-of-type {\n",
       "        vertical-align: middle;\n",
       "    }\n",
       "\n",
       "    .dataframe tbody tr th {\n",
       "        vertical-align: top;\n",
       "    }\n",
       "\n",
       "    .dataframe thead th {\n",
       "        text-align: right;\n",
       "    }\n",
       "</style>\n",
       "<table border=\"1\" class=\"dataframe\">\n",
       "  <thead>\n",
       "    <tr style=\"text-align: right;\">\n",
       "      <th></th>\n",
       "      <th>A</th>\n",
       "      <th>B</th>\n",
       "      <th>C</th>\n",
       "    </tr>\n",
       "  </thead>\n",
       "  <tbody>\n",
       "    <tr>\n",
       "      <th>0</th>\n",
       "      <td>12.0</td>\n",
       "      <td>18.0</td>\n",
       "      <td>30.0</td>\n",
       "    </tr>\n",
       "    <tr>\n",
       "      <th>1</th>\n",
       "      <td>14.0</td>\n",
       "      <td>21.0</td>\n",
       "      <td>35.0</td>\n",
       "    </tr>\n",
       "    <tr>\n",
       "      <th>2</th>\n",
       "      <td>14.0</td>\n",
       "      <td>21.0</td>\n",
       "      <td>35.0</td>\n",
       "    </tr>\n",
       "  </tbody>\n",
       "</table>\n",
       "</div>"
      ],
      "text/plain": [
       "      A     B     C\n",
       "0  12.0  18.0  30.0\n",
       "1  14.0  21.0  35.0\n",
       "2  14.0  21.0  35.0"
      ]
     },
     "execution_count": 37,
     "metadata": {},
     "output_type": "execute_result"
    }
   ],
   "source": [
    "exp = pd.DataFrame()\n",
    "for i,colName in zip(colSum,obs.columns):\n",
    "    exp[colName] = [i*j/total for j in rowSum]\n",
    "exp"
   ]
  },
  {
   "cell_type": "code",
   "execution_count": 38,
   "id": "957c49bf",
   "metadata": {},
   "outputs": [
    {
     "data": {
      "text/plain": [
       "5.894582174259533e-06"
      ]
     },
     "execution_count": 38,
     "metadata": {},
     "output_type": "execute_result"
    }
   ],
   "source": [
    "chi2_cal = 0\n",
    "df = (len(obs.columns)-1)*(len(obs.index)-1)\n",
    "for lst1, lst2 in zip(obs.values,exp.values):\n",
    "    for o,e in zip(lst1, lst2):\n",
    "        chi2_cal += (o-e)**2/e\n",
    "## assume alpha = 5% \n",
    "alpha = .05\n",
    "pval = 1-chi2.cdf(chi2_cal, df, loc=0, scale=1)\n",
    "pval"
   ]
  },
  {
   "cell_type": "code",
   "execution_count": 39,
   "id": "ac6a7bb0",
   "metadata": {},
   "outputs": [
    {
     "data": {
      "text/plain": [
       "True"
      ]
     },
     "execution_count": 39,
     "metadata": {},
     "output_type": "execute_result"
    }
   ],
   "source": [
    "pval<alpha\n",
    "## reject H0"
   ]
  },
  {
   "cell_type": "code",
   "execution_count": null,
   "id": "2a62ef65",
   "metadata": {},
   "outputs": [],
   "source": []
  },
  {
   "attachments": {
    "image.png": {
     "image/png": "[encoded data removed]"
    }
   },
   "cell_type": "markdown",
   "id": "79762760",
   "metadata": {},
   "source": [
    "### Problem Statement 21:\n",
    "\n",
    "A study of conformity using the Asch paradigm involved two conditions: one where\n",
    "one confederate supported the true judgement and another where no confederate\n",
    "gave the correct response.\n",
    "\n",
    "![image.png](attachment:image.png)\n",
    "\n",
    "Is there a significant difference between the \"support\" and \"no support\" conditions in the\n",
    "frequency with which individuals are likely to conform? [Chi-Square = 19.87, with 1 df:\n",
    "p < 0.05]."
   ]
  },
  {
   "cell_type": "markdown",
   "id": "b5611806",
   "metadata": {},
   "source": [
    "- H0:two rv independent, H1: two rv correlated"
   ]
  },
  {
   "cell_type": "code",
   "execution_count": 40,
   "id": "471e009e",
   "metadata": {},
   "outputs": [
    {
     "data": {
      "text/html": [
       "<div>\n",
       "<style scoped>\n",
       "    .dataframe tbody tr th:only-of-type {\n",
       "        vertical-align: middle;\n",
       "    }\n",
       "\n",
       "    .dataframe tbody tr th {\n",
       "        vertical-align: top;\n",
       "    }\n",
       "\n",
       "    .dataframe thead th {\n",
       "        text-align: right;\n",
       "    }\n",
       "</style>\n",
       "<table border=\"1\" class=\"dataframe\">\n",
       "  <thead>\n",
       "    <tr style=\"text-align: right;\">\n",
       "      <th></th>\n",
       "      <th>support</th>\n",
       "      <th>not support</th>\n",
       "    </tr>\n",
       "  </thead>\n",
       "  <tbody>\n",
       "    <tr>\n",
       "      <th>0</th>\n",
       "      <td>32</td>\n",
       "      <td>10</td>\n",
       "    </tr>\n",
       "    <tr>\n",
       "      <th>1</th>\n",
       "      <td>18</td>\n",
       "      <td>40</td>\n",
       "    </tr>\n",
       "  </tbody>\n",
       "</table>\n",
       "</div>"
      ],
      "text/plain": [
       "   support  not support\n",
       "0       32           10\n",
       "1       18           40"
      ]
     },
     "execution_count": 40,
     "metadata": {},
     "output_type": "execute_result"
    }
   ],
   "source": [
    "obs = pd.DataFrame({\"support\":[32,18],'not support':[10,40]})\n",
    "## 0 : not conform,1:conform\n",
    "colSum = obs.sum(axis=0)\n",
    "rowSum = obs.sum(axis=1)\n",
    "total = sum(colSum)\n",
    "obs"
   ]
  },
  {
   "cell_type": "code",
   "execution_count": 41,
   "id": "f67891d8",
   "metadata": {},
   "outputs": [
    {
     "data": {
      "text/html": [
       "<div>\n",
       "<style scoped>\n",
       "    .dataframe tbody tr th:only-of-type {\n",
       "        vertical-align: middle;\n",
       "    }\n",
       "\n",
       "    .dataframe tbody tr th {\n",
       "        vertical-align: top;\n",
       "    }\n",
       "\n",
       "    .dataframe thead th {\n",
       "        text-align: right;\n",
       "    }\n",
       "</style>\n",
       "<table border=\"1\" class=\"dataframe\">\n",
       "  <thead>\n",
       "    <tr style=\"text-align: right;\">\n",
       "      <th></th>\n",
       "      <th>support</th>\n",
       "      <th>not support</th>\n",
       "    </tr>\n",
       "  </thead>\n",
       "  <tbody>\n",
       "    <tr>\n",
       "      <th>0</th>\n",
       "      <td>21.0</td>\n",
       "      <td>21.0</td>\n",
       "    </tr>\n",
       "    <tr>\n",
       "      <th>1</th>\n",
       "      <td>29.0</td>\n",
       "      <td>29.0</td>\n",
       "    </tr>\n",
       "  </tbody>\n",
       "</table>\n",
       "</div>"
      ],
      "text/plain": [
       "   support  not support\n",
       "0     21.0         21.0\n",
       "1     29.0         29.0"
      ]
     },
     "execution_count": 41,
     "metadata": {},
     "output_type": "execute_result"
    }
   ],
   "source": [
    "exp = pd.DataFrame()\n",
    "for i,colName in zip(colSum,obs.columns):\n",
    "    exp[colName] = [i*j/total for j in rowSum]\n",
    "exp"
   ]
  },
  {
   "cell_type": "code",
   "execution_count": 42,
   "id": "99fe68b4",
   "metadata": {},
   "outputs": [
    {
     "data": {
      "text/plain": [
       "8.29500671717387e-06"
      ]
     },
     "execution_count": 42,
     "metadata": {},
     "output_type": "execute_result"
    }
   ],
   "source": [
    "chi2_cal = 0\n",
    "df = (len(obs.columns)-1)*(len(obs.index)-1)\n",
    "for lst1, lst2 in zip(obs.values,exp.values):\n",
    "    for o,e in zip(lst1, lst2):\n",
    "        chi2_cal += (o-e)**2/e\n",
    "## assume alpha = 5% \n",
    "alpha = .05\n",
    "pval = 1-chi2.cdf(chi2_cal, df, loc=0, scale=1)\n",
    "pval"
   ]
  },
  {
   "cell_type": "code",
   "execution_count": 43,
   "id": "fe27a112",
   "metadata": {},
   "outputs": [
    {
     "data": {
      "text/plain": [
       "True"
      ]
     },
     "execution_count": 43,
     "metadata": {},
     "output_type": "execute_result"
    }
   ],
   "source": [
    "pval<alpha\n",
    "## reject H0"
   ]
  },
  {
   "cell_type": "code",
   "execution_count": null,
   "id": "6f33b8b9",
   "metadata": {},
   "outputs": [],
   "source": []
  },
  {
   "attachments": {
    "image.png": {
     "image/png": "[encoded data removed]"
    }
   },
   "cell_type": "markdown",
   "id": "0c458d9c",
   "metadata": {},
   "source": [
    "### Problem Statement 22:\n",
    "\n",
    "We want to test whether short people differ with respect to their leadership qualities\n",
    "(Genghis Khan, Adolf Hitler and Napoleon were all stature-deprived, and how many midget\n",
    "MP's are there?) The following table shows the frequencies with which 43 short people and\n",
    "52 tall people were categorized as \"leaders\", \"followers\" or as \"unclassifiable\". Is there a\n",
    "relationship between height and leadership qualities?\n",
    "[Chi-Square = 10.71, with 2 df: p < 0.01].\n",
    "![image.png](attachment:image.png)"
   ]
  },
  {
   "cell_type": "markdown",
   "id": "81deb986",
   "metadata": {},
   "source": [
    "- H0:two rv independent, H1: two rv correlated"
   ]
  },
  {
   "cell_type": "code",
   "execution_count": 44,
   "id": "b3fc82aa",
   "metadata": {},
   "outputs": [
    {
     "data": {
      "text/html": [
       "<div>\n",
       "<style scoped>\n",
       "    .dataframe tbody tr th:only-of-type {\n",
       "        vertical-align: middle;\n",
       "    }\n",
       "\n",
       "    .dataframe tbody tr th {\n",
       "        vertical-align: top;\n",
       "    }\n",
       "\n",
       "    .dataframe thead th {\n",
       "        text-align: right;\n",
       "    }\n",
       "</style>\n",
       "<table border=\"1\" class=\"dataframe\">\n",
       "  <thead>\n",
       "    <tr style=\"text-align: right;\">\n",
       "      <th></th>\n",
       "      <th>short</th>\n",
       "      <th>tall</th>\n",
       "    </tr>\n",
       "  </thead>\n",
       "  <tbody>\n",
       "    <tr>\n",
       "      <th>0</th>\n",
       "      <td>12</td>\n",
       "      <td>32</td>\n",
       "    </tr>\n",
       "    <tr>\n",
       "      <th>1</th>\n",
       "      <td>22</td>\n",
       "      <td>14</td>\n",
       "    </tr>\n",
       "    <tr>\n",
       "      <th>2</th>\n",
       "      <td>9</td>\n",
       "      <td>6</td>\n",
       "    </tr>\n",
       "  </tbody>\n",
       "</table>\n",
       "</div>"
      ],
      "text/plain": [
       "   short  tall\n",
       "0     12    32\n",
       "1     22    14\n",
       "2      9     6"
      ]
     },
     "execution_count": 44,
     "metadata": {},
     "output_type": "execute_result"
    }
   ],
   "source": [
    "obs = pd.DataFrame({\"short\":[12,22,9],'tall':[32,14,6]})\n",
    "## 0 : leader,1:follower,3:unclassifiable\n",
    "colSum = obs.sum(axis=0)\n",
    "rowSum = obs.sum(axis=1)\n",
    "total = sum(colSum)\n",
    "obs"
   ]
  },
  {
   "cell_type": "code",
   "execution_count": 45,
   "id": "3a0c59d3",
   "metadata": {},
   "outputs": [
    {
     "data": {
      "text/html": [
       "<div>\n",
       "<style scoped>\n",
       "    .dataframe tbody tr th:only-of-type {\n",
       "        vertical-align: middle;\n",
       "    }\n",
       "\n",
       "    .dataframe tbody tr th {\n",
       "        vertical-align: top;\n",
       "    }\n",
       "\n",
       "    .dataframe thead th {\n",
       "        text-align: right;\n",
       "    }\n",
       "</style>\n",
       "<table border=\"1\" class=\"dataframe\">\n",
       "  <thead>\n",
       "    <tr style=\"text-align: right;\">\n",
       "      <th></th>\n",
       "      <th>short</th>\n",
       "      <th>tall</th>\n",
       "    </tr>\n",
       "  </thead>\n",
       "  <tbody>\n",
       "    <tr>\n",
       "      <th>0</th>\n",
       "      <td>19.915789</td>\n",
       "      <td>24.084211</td>\n",
       "    </tr>\n",
       "    <tr>\n",
       "      <th>1</th>\n",
       "      <td>16.294737</td>\n",
       "      <td>19.705263</td>\n",
       "    </tr>\n",
       "    <tr>\n",
       "      <th>2</th>\n",
       "      <td>6.789474</td>\n",
       "      <td>8.210526</td>\n",
       "    </tr>\n",
       "  </tbody>\n",
       "</table>\n",
       "</div>"
      ],
      "text/plain": [
       "       short       tall\n",
       "0  19.915789  24.084211\n",
       "1  16.294737  19.705263\n",
       "2   6.789474   8.210526"
      ]
     },
     "execution_count": 45,
     "metadata": {},
     "output_type": "execute_result"
    }
   ],
   "source": [
    "exp = pd.DataFrame()\n",
    "for i,colName in zip(colSum,obs.columns):\n",
    "    exp[colName] = [i*j/total for j in rowSum]\n",
    "exp"
   ]
  },
  {
   "cell_type": "code",
   "execution_count": 46,
   "id": "a74e01d9",
   "metadata": {},
   "outputs": [
    {
     "data": {
      "text/plain": [
       "0.0047192801370408155"
      ]
     },
     "execution_count": 46,
     "metadata": {},
     "output_type": "execute_result"
    }
   ],
   "source": [
    "chi2_cal = 0\n",
    "df = (len(obs.columns)-1)*(len(obs.index)-1)\n",
    "for lst1, lst2 in zip(obs.values,exp.values):\n",
    "    for o,e in zip(lst1, lst2):\n",
    "        chi2_cal += (o-e)**2/e\n",
    "alpha = .01\n",
    "pval = 1-chi2.cdf(chi2_cal, df, loc=0, scale=1)\n",
    "pval"
   ]
  },
  {
   "cell_type": "code",
   "execution_count": 47,
   "id": "d266e526",
   "metadata": {},
   "outputs": [
    {
     "data": {
      "text/plain": [
       "True"
      ]
     },
     "execution_count": 47,
     "metadata": {},
     "output_type": "execute_result"
    }
   ],
   "source": [
    "pval<alpha\n",
    "## reject H0"
   ]
  },
  {
   "attachments": {
    "image.png": {
     "image/png": "[encoded data removed]"
    }
   },
   "cell_type": "markdown",
   "id": "15fcfe42",
   "metadata": {},
   "source": [
    "### Problem Statement 23:\n",
    "\n",
    "Each respondent in the Current Population Survey of March 1993 was classified as\n",
    "employed, unemployed, or outside the labor force. The results for men in California age 35-\n",
    "44 can be cross-tabulated by marital status, as follows:\n",
    "\n",
    "![image.png](attachment:image.png)\n",
    "\n",
    "Men of different marital status seem to have different distributions of labor force status. Or is\n",
    "this just chance variation? (you may assume the table results from a simple random\n",
    "sample.)"
   ]
  },
  {
   "cell_type": "markdown",
   "id": "8eee786c",
   "metadata": {},
   "source": [
    "- H0:two rv independent, H1: two rv correlated"
   ]
  },
  {
   "cell_type": "code",
   "execution_count": 48,
   "id": "c5738446",
   "metadata": {},
   "outputs": [
    {
     "data": {
      "text/html": [
       "<div>\n",
       "<style scoped>\n",
       "    .dataframe tbody tr th:only-of-type {\n",
       "        vertical-align: middle;\n",
       "    }\n",
       "\n",
       "    .dataframe tbody tr th {\n",
       "        vertical-align: top;\n",
       "    }\n",
       "\n",
       "    .dataframe thead th {\n",
       "        text-align: right;\n",
       "    }\n",
       "</style>\n",
       "<table border=\"1\" class=\"dataframe\">\n",
       "  <thead>\n",
       "    <tr style=\"text-align: right;\">\n",
       "      <th></th>\n",
       "      <th>married</th>\n",
       "      <th>divorced</th>\n",
       "      <th>never married</th>\n",
       "    </tr>\n",
       "  </thead>\n",
       "  <tbody>\n",
       "    <tr>\n",
       "      <th>0</th>\n",
       "      <td>679</td>\n",
       "      <td>103</td>\n",
       "      <td>114</td>\n",
       "    </tr>\n",
       "    <tr>\n",
       "      <th>1</th>\n",
       "      <td>63</td>\n",
       "      <td>10</td>\n",
       "      <td>20</td>\n",
       "    </tr>\n",
       "    <tr>\n",
       "      <th>2</th>\n",
       "      <td>42</td>\n",
       "      <td>18</td>\n",
       "      <td>25</td>\n",
       "    </tr>\n",
       "  </tbody>\n",
       "</table>\n",
       "</div>"
      ],
      "text/plain": [
       "   married  divorced  never married\n",
       "0      679       103            114\n",
       "1       63        10             20\n",
       "2       42        18             25"
      ]
     },
     "execution_count": 48,
     "metadata": {},
     "output_type": "execute_result"
    }
   ],
   "source": [
    "obs = pd.DataFrame({\"married\":[679,63,42],'divorced':[103,10,18],\"never married\":[114,20,25]})\n",
    "## 0 : employed,1:unemployed,2:not in labor force\n",
    "colSum = obs.sum(axis=0)\n",
    "rowSum = obs.sum(axis=1)\n",
    "total = sum(colSum)\n",
    "obs"
   ]
  },
  {
   "cell_type": "code",
   "execution_count": 49,
   "id": "3fdfe5d5",
   "metadata": {},
   "outputs": [
    {
     "data": {
      "text/html": [
       "<div>\n",
       "<style scoped>\n",
       "    .dataframe tbody tr th:only-of-type {\n",
       "        vertical-align: middle;\n",
       "    }\n",
       "\n",
       "    .dataframe tbody tr th {\n",
       "        vertical-align: top;\n",
       "    }\n",
       "\n",
       "    .dataframe thead th {\n",
       "        text-align: right;\n",
       "    }\n",
       "</style>\n",
       "<table border=\"1\" class=\"dataframe\">\n",
       "  <thead>\n",
       "    <tr style=\"text-align: right;\">\n",
       "      <th></th>\n",
       "      <th>married</th>\n",
       "      <th>divorced</th>\n",
       "      <th>never married</th>\n",
       "    </tr>\n",
       "  </thead>\n",
       "  <tbody>\n",
       "    <tr>\n",
       "      <th>0</th>\n",
       "      <td>654.063315</td>\n",
       "      <td>109.288641</td>\n",
       "      <td>132.648045</td>\n",
       "    </tr>\n",
       "    <tr>\n",
       "      <th>1</th>\n",
       "      <td>67.888268</td>\n",
       "      <td>11.343575</td>\n",
       "      <td>13.768156</td>\n",
       "    </tr>\n",
       "    <tr>\n",
       "      <th>2</th>\n",
       "      <td>62.048417</td>\n",
       "      <td>10.367784</td>\n",
       "      <td>12.583799</td>\n",
       "    </tr>\n",
       "  </tbody>\n",
       "</table>\n",
       "</div>"
      ],
      "text/plain": [
       "      married    divorced  never married\n",
       "0  654.063315  109.288641     132.648045\n",
       "1   67.888268   11.343575      13.768156\n",
       "2   62.048417   10.367784      12.583799"
      ]
     },
     "execution_count": 49,
     "metadata": {},
     "output_type": "execute_result"
    }
   ],
   "source": [
    "exp = pd.DataFrame()\n",
    "for i,colName in zip(colSum,obs.columns):\n",
    "    exp[colName] = [i*j/total for j in rowSum]\n",
    "exp"
   ]
  },
  {
   "cell_type": "code",
   "execution_count": 50,
   "id": "f7aae43f",
   "metadata": {},
   "outputs": [
    {
     "data": {
      "text/plain": [
       "2.294988304285539e-06"
      ]
     },
     "execution_count": 50,
     "metadata": {},
     "output_type": "execute_result"
    }
   ],
   "source": [
    "chi2_cal = 0\n",
    "df = (len(obs.columns)-1)*(len(obs.index)-1)\n",
    "for lst1, lst2 in zip(obs.values,exp.values):\n",
    "    for o,e in zip(lst1, lst2):\n",
    "        chi2_cal += (o-e)**2/e\n",
    "## assume alpha = 5% \n",
    "alpha = .05\n",
    "pval = 1-chi2.cdf(chi2_cal, df, loc=0, scale=1)\n",
    "pval"
   ]
  },
  {
   "cell_type": "code",
   "execution_count": 51,
   "id": "e06b9401",
   "metadata": {},
   "outputs": [
    {
     "data": {
      "text/plain": [
       "True"
      ]
     },
     "execution_count": 51,
     "metadata": {},
     "output_type": "execute_result"
    }
   ],
   "source": [
    "pval<alpha\n",
    "## reject H0"
   ]
  },
  {
   "cell_type": "code",
   "execution_count": null,
   "id": "ab25f6fc",
   "metadata": {},
   "outputs": [],
   "source": []
  },
  {
   "cell_type": "code",
   "execution_count": null,
   "id": "f5354c4b",
   "metadata": {},
   "outputs": [],
   "source": []
  }
 ],
 "metadata": {
  "kernelspec": {
   "display_name": "Python 3",
   "language": "python",
   "name": "python3"
  },
  "language_info": {
   "codemirror_mode": {
    "name": "ipython",
    "version": 3
   },
   "file_extension": ".py",
   "mimetype": "text/x-python",
   "name": "python",
   "nbconvert_exporter": "python",
   "pygments_lexer": "ipython3",
   "version": "3.7.9"
  }
 },
 "nbformat": 4,
 "nbformat_minor": 5
}
